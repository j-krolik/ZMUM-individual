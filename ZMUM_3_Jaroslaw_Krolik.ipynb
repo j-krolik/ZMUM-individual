{
 "cells": [
  {
   "cell_type": "markdown",
   "metadata": {
    "id": "JDmBJEhVWfav"
   },
   "source": [
    "## Lab 4 - Jądrowy estymator gęstości (skrót ang. KDE)"
   ]
  },
  {
   "cell_type": "markdown",
   "metadata": {
    "id": "q5iNnctbWfa5"
   },
   "source": [
    "Estymator gęstości to algorytm, który pobiera $D$-wymiarowy zbiór danych i generuje oszacowanie rozkładu prawdopodobieństwa $ D $, z którego te dane są pobierane.\n",
    "\n",
    "Rozpoczynamy od standardowego importu:"
   ]
  },
  {
   "cell_type": "code",
   "execution_count": 1,
   "metadata": {
    "id": "NDkizTzmWfa8"
   },
   "outputs": [],
   "source": [
    "%matplotlib inline\n",
    "import matplotlib.pyplot as plt\n",
    "import seaborn as sns; sns.set()\n",
    "import numpy as np"
   ]
  },
  {
   "cell_type": "markdown",
   "metadata": {
    "id": "KOTk2imaWfbL"
   },
   "source": [
    "Jak już wspomniano, estymator gęstości to algorytm, który stara się modelować rozkład prawdopodobieństwa, który wygenerował zbiór danych.\n",
    "W przypadku danych jednowymiarowych prawdopodobnie znasz już jeden prosty estymator gęstości: histogram.\n",
    "Histogram dzieli dane na dyskretne pojemniki, zlicza punkty, które przypadają na każdy pojemnik, a następnie wizualizuje wyniki w intuicyjny sposób.\n",
    "\n",
    "Dl przykładu utwórzmy dane, które składają się z dwóch normalnych rozkładów:"
   ]
  },
  {
   "cell_type": "code",
   "execution_count": 2,
   "metadata": {
    "id": "cV7WN_W8WfbN"
   },
   "outputs": [],
   "source": [
    "def make_data(N, f=0.3, rseed=1):\n",
    "    rand = np.random.RandomState(rseed)\n",
    "    x = rand.randn(N)\n",
    "    x[int(f * N):] += 5\n",
    "    return x\n",
    "\n",
    "x = make_data(1000)"
   ]
  },
  {
   "cell_type": "markdown",
   "metadata": {
    "id": "uhe64QuiWfbX"
   },
   "source": [
    "Standardowy histogram oparty na zliczeniach można utworzyć za pomocą funkcji ``plt.hist()``.\n",
    "Określając parametr normalizacji ``density`` otrzymujemy znormalizowany histogram, w którym wysokość przedziałów nie odzwierciedla liczebności, ale zamiast tego odzwierciedla gęstość prawdopodobieństwa:"
   ]
  },
  {
   "cell_type": "code",
   "execution_count": 3,
   "metadata": {
    "id": "QcuRC849WfbZ",
    "outputId": "08fcbe85-651c-461e-cd36-e0adf9d66854"
   },
   "outputs": [
    {
     "data": {
      "image/png": "[encoded data removed]",
      "text/plain": [
       "<Figure size 432x288 with 1 Axes>"
      ]
     },
     "metadata": {},
     "output_type": "display_data"
    }
   ],
   "source": [
    "hist = plt.hist(x, bins=30, density=True)"
   ]
  },
  {
   "cell_type": "markdown",
   "metadata": {
    "id": "NkhvEHWeWfbj"
   },
   "source": [
    "Zauważ, że dla równego podziału na grupy, normalizacja po prostu zmienia skalę na osi y, pozostawiając względne wysokości zasadniczo takie same, jak w histogramie zbudowanym ze zliczeń.\n",
    "Ta normalizacja jest tak dobrana, aby całkowity obszar pod histogramem był równy 1, co możemy potwierdzić patrząc na wynik funkcji histogramu:"
   ]
  },
  {
   "cell_type": "code",
   "execution_count": 4,
   "metadata": {
    "id": "mGkKZS9DWfbm",
    "outputId": "9d9cd3ba-4b1d-4d12-f90d-f41d2680b18a"
   },
   "outputs": [
    {
     "data": {
      "text/plain": [
       "1.0"
      ]
     },
     "execution_count": 4,
     "metadata": {},
     "output_type": "execute_result"
    }
   ],
   "source": [
    "density, bins, patches = hist\n",
    "widths = bins[1:] - bins[:-1]\n",
    "(density * widths).sum()"
   ]
  },
  {
   "cell_type": "markdown",
   "metadata": {
    "id": "zWFbPwsoWfbw"
   },
   "source": [
    "Jednym z problemów związanych z używaniem histogramu jako estymatora gęstości jest to, że wybór rozmiaru pojemnika i lokalizacji może prowadzić do reprezentacji, które mają jakościowo różne cechy.\n",
    "Na przykład, jeśli spojrzymy na wersję tych danych, która ma tylko 20 punktów, wybór sposobu narysowania pojemników może prowadzić do zupełnie innej interpretacji danych!\n",
    "Rozważmy ten przykład:"
   ]
  },
  {
   "cell_type": "code",
   "execution_count": 5,
   "metadata": {
    "id": "zPwX4dFKWfbw"
   },
   "outputs": [],
   "source": [
    "x = make_data(20)\n",
    "bins = np.linspace(-5, 10, 10)"
   ]
  },
  {
   "cell_type": "code",
   "execution_count": 6,
   "metadata": {
    "id": "bo2pzlR-Wfb6",
    "outputId": "dae7f9e6-3092-43c2-a316-750ce2265419"
   },
   "outputs": [
    {
     "data": {
      "image/png": "[encoded data removed]",
      "text/plain": [
       "<Figure size 864x288 with 2 Axes>"
      ]
     },
     "metadata": {},
     "output_type": "display_data"
    }
   ],
   "source": [
    "fig, ax = plt.subplots(1, 2, figsize=(12, 4),\n",
    "                       sharex=True, sharey=True,\n",
    "                       subplot_kw={'xlim':(-4, 9),\n",
    "                                   'ylim':(-0.02, 0.3)})\n",
    "fig.subplots_adjust(wspace=0.05)\n",
    "for i, offset in enumerate([0.0, 0.6]):\n",
    "    ax[i].hist(x, bins=bins + offset, density=True)\n",
    "    ax[i].plot(x, np.full_like(x, -0.01), '|k',\n",
    "               markeredgewidth=1)"
   ]
  },
  {
   "cell_type": "markdown",
   "metadata": {
    "id": "pVvFYK1TWfcB"
   },
   "source": [
    "Histogram po lewej pokazuje, że jest to rozkład bimodalny.\n",
    "Po prawej stronie widzimy rozkład unimodalny z długim ogonem.\n",
    "Nie widząc poprzedniego kodu, prawdopodobnie nie udałoby się nam odgadnąć, że te dwa histogramy zostały zbudowane z tych samych danych: mając to na uwadze, jak możesz ufać intuicji jaką dają histogramy?\n",
    "Jak możemy to poprawić?\n",
    "\n",
    "O histogramie możemy myśleć  jako o stosie bloków, w którym układamy jeden blok w każdym koszu na szczycie każdego punktu w zestawie danych.\n",
    "Spójrzmy na to bezpośrednio:"
   ]
  },
  {
   "cell_type": "code",
   "execution_count": 7,
   "metadata": {
    "id": "qAA4Jql7WfcC",
    "outputId": "89cf13eb-2ffd-4c0b-894e-fbe8481d67d3"
   },
   "outputs": [
    {
     "data": {
      "text/plain": [
       "(-0.2, 8)"
      ]
     },
     "execution_count": 7,
     "metadata": {},
     "output_type": "execute_result"
    },
    {
     "data": {
      "image/png": "[encoded data removed]",
      "text/plain": [
       "<Figure size 432x288 with 1 Axes>"
      ]
     },
     "metadata": {},
     "output_type": "display_data"
    }
   ],
   "source": [
    "fig, ax = plt.subplots()\n",
    "bins = np.arange(-3, 8)\n",
    "ax.plot(x, np.full_like(x, -0.1), '|k',\n",
    "        markeredgewidth=1)\n",
    "for count, edge in zip(*np.histogram(x, bins)):\n",
    "    for i in range(count):\n",
    "        ax.add_patch(plt.Rectangle((edge, i), 1, 1,\n",
    "                                   alpha=0.5))\n",
    "ax.set_xlim(-4, 8)\n",
    "ax.set_ylim(-0.2, 8)"
   ]
  },
  {
   "cell_type": "markdown",
   "metadata": {
    "id": "BqytCjLHWfcK"
   },
   "source": [
    "Problem z naszymi dwoma wiązaniami wynika z faktu, że wysokość stosu bloków często nie odzwierciedla rzeczywistej gęstości pobliskich punktów, ale zbieżności tego, jak pojemniki są wyrównane z punktami danych.\n",
    "To niedopasowanie punktów i ich bloków jest potencjalną przyczyną słabych wyników histogramu, które można zobaczyć tutaj.\n",
    "Ale co by było, gdybyśmy zamiast układać bloki wyrównane z *bins*, mielibyśmy ułożyć bloki wyrównane z *punktami, które reprezentują*?\n",
    "Jeśli to zrobimy, bloki nie zostaną wyrównane, ale możemy dodać ich wkład w każdym miejscu wzdłuż osi x, aby znaleźć wynik.\n",
    "Spróbujmy tego:"
   ]
  },
  {
   "cell_type": "code",
   "execution_count": 8,
   "metadata": {
    "id": "322zp3KfWfcL",
    "outputId": "b842c46b-492b-4922-baca-b15a993bb7b7"
   },
   "outputs": [
    {
     "data": {
      "image/png": "[encoded data removed]",
      "text/plain": [
       "<Figure size 432x288 with 1 Axes>"
      ]
     },
     "metadata": {},
     "output_type": "display_data"
    }
   ],
   "source": [
    "x_d = np.linspace(-4, 8, 2000)\n",
    "density = sum((abs(xi - x_d) < 0.5) for xi in x)\n",
    "\n",
    "plt.fill_between(x_d, density, alpha=0.5)\n",
    "plt.plot(x, np.full_like(x, -0.1), '|k', markeredgewidth=1)\n",
    "\n",
    "plt.axis([-4, 8, -0.2, 8]);"
   ]
  },
  {
   "cell_type": "markdown",
   "metadata": {
    "id": "tFfPrjA6WfcT"
   },
   "source": [
    "Wynik wygląda trochę niechlujnie, ale jest znacznie bardziej solidnym odzwierciedleniem rzeczywistej charakterystyki danych niż standardowy histogram.\n",
    "\n",
    "Mimo to szorstkie krawędzie nie są estetyczne ani nie odzwierciedlają żadnych prawdziwych właściwości danych.\n",
    "Aby je wygładzić, możemy zdecydować się na zastąpienie bloków w każdym miejscu gładką funkcją, taką jak Gaussian.\n",
    "\n",
    "Użyjmy standardowej krzywej normalnej w każdym punkcie zamiast bloku:"
   ]
  },
  {
   "cell_type": "code",
   "execution_count": 9,
   "metadata": {
    "id": "4vtvgzVPWfcU",
    "outputId": "6efe67ba-23fc-4255-9bfc-97bccce85deb"
   },
   "outputs": [
    {
     "data": {
      "image/png": "[encoded data removed]",
      "text/plain": [
       "<Figure size 432x288 with 1 Axes>"
      ]
     },
     "metadata": {},
     "output_type": "display_data"
    }
   ],
   "source": [
    "from scipy.stats import norm\n",
    "x_d = np.linspace(-4, 8, 1000)\n",
    "density = sum(norm(xi).pdf(x_d) for xi in x)\n",
    "\n",
    "plt.fill_between(x_d, density, alpha=0.5)\n",
    "plt.plot(x, np.full_like(x, -0.1), '|k', markeredgewidth=1)\n",
    "\n",
    "plt.axis([-4, 8, -0.2, 5]);"
   ]
  },
  {
   "cell_type": "markdown",
   "metadata": {
    "id": "hqaiOpLAWfcd"
   },
   "source": [
    "Ten wygładzony wykres, z rozkładem Gaussa wniesionym w lokalizacji każdego punktu wejściowego, daje znacznie dokładniejsze wyobrażenie o kształcie rozkładu danych i ma znacznie mniejszą wariancję (tj. Zmienia się znacznie mniej w odpowiedzi na różnice w pobieraniu próbek).\n",
    "\n",
    "Te dwa ostatnie wykresy są przykładami szacowania gęstości jądra w jednym wymiarze: pierwszy wykorzystuje tak zwane jądro „tophat”, a drugi wykorzystuje jądro Gaussa.\n",
    "\n",
    "Przyjrzymy się teraz bardziej szczegółowo na jądrowy estymator gęstości."
   ]
  },
  {
   "cell_type": "markdown",
   "metadata": {
    "id": "pnAqKTSlWfce"
   },
   "source": [
    "## Kernel Density Estimation w Praktyce\n",
    "\n",
    "Wolnymi parametrami szacowania gęstości jądra jest *kernel*, który określa kształt rozkładu umieszczonego w każdym punkcie, oraz *szerokość pasma jądra*, która kontroluje rozmiar jądra w każdym punkcie.\n",
    "\n",
    "W praktyce istnieje wiele jąder, których możesz użyć do oszacowania gęstości jądra: w szczególności implementacja Scikit-Learn KDE obsługuje jedno z sześciu jąder, o których można przeczytać w [Density Estimation documentation](http://scikit-learn.org/stable/modules/density.html).\n",
    "\n",
    "Ponieważ KDE może być dość intensywne obliczeniowo, estymator Scikit-Learn używa pod maską algorytmu opartego na drzewie i może poświęcić czas obliczeń na dokładność używając parametrów ``atol``  (tolerancja absolutna ) i ``rtol`` (tolerancja względna).\n",
    "Przepustowość jądra, która jest parametrem swobodnym, można określić za pomocą standardowych narzędzi krzyżowego uwiarygodnienia (cross validation) z Scikit-Learn.\n",
    "\n",
    "\n",
    "Najpierw pokażmy prosty przykład powtórzenia powyższego wykresu za pomocą estymatora Scikit-Learn ``KernelDensity``:"
   ]
  },
  {
   "cell_type": "code",
   "execution_count": 10,
   "metadata": {
    "id": "k-hau0ilWfcf",
    "outputId": "81118559-441d-477d-e339-4e4151a860a0"
   },
   "outputs": [
    {
     "data": {
      "text/plain": [
       "(-0.02, 0.5)"
      ]
     },
     "execution_count": 10,
     "metadata": {},
     "output_type": "execute_result"
    },
    {
     "data": {
      "image/png": "[encoded data removed]",
      "text/plain": [
       "<Figure size 432x288 with 1 Axes>"
      ]
     },
     "metadata": {},
     "output_type": "display_data"
    }
   ],
   "source": [
    "from sklearn.neighbors import KernelDensity\n",
    "\n",
    "# instantiate and fit the KDE model\n",
    "kde = KernelDensity(bandwidth=2, kernel='epanechnikov')\n",
    "kde.fit(x[:, None])\n",
    "\n",
    "# score_samples returns the log of the probability density\n",
    "logprob = kde.score_samples(x_d[:, None])\n",
    "\n",
    "plt.fill_between(x_d, np.exp(logprob), alpha=0.5)\n",
    "plt.plot(x, np.full_like(x, -0.01), '|k', markeredgewidth=1)\n",
    "plt.ylim(-0.02, 0.5)"
   ]
  },
  {
   "cell_type": "code",
   "execution_count": 11,
   "metadata": {},
   "outputs": [
    {
     "data": {
      "text/plain": [
       "(-0.02, 0.5)"
      ]
     },
     "execution_count": 11,
     "metadata": {},
     "output_type": "execute_result"
    },
    {
     "data": {
      "image/png": "[encoded data removed]",
      "text/plain": [
       "<Figure size 432x288 with 1 Axes>"
      ]
     },
     "metadata": {},
     "output_type": "display_data"
    }
   ],
   "source": [
    "from sklearn.neighbors import KernelDensity\n",
    "\n",
    "# instantiate and fit the KDE model\n",
    "kde = KernelDensity(bandwidth=1, kernel='gaussian')\n",
    "kde.fit(x[:, None])\n",
    "\n",
    "# score_samples returns the log of the probability density\n",
    "logprob = kde.score_samples(x_d[:, None])\n",
    "\n",
    "plt.fill_between(x_d, np.exp(logprob), alpha=0.5)\n",
    "plt.plot(x, np.full_like(x, -0.01), '|k', markeredgewidth=1)\n",
    "plt.ylim(-0.02, 0.5)"
   ]
  },
  {
   "cell_type": "markdown",
   "metadata": {
    "id": "pZmXz8FdWfco"
   },
   "source": [
    "Wynik tutaj jest znormalizowany w taki sposób, że pole powierzchni pod krzywą jest równe 1."
   ]
  },
  {
   "cell_type": "markdown",
   "metadata": {
    "id": "y0HPwbA9Wfcr"
   },
   "source": [
    "### Wybór pasma przy pomocy cross-validation\n",
    "\n",
    "Wybór szerokości pasma w KDE jest niezwykle ważny dla znalezienia odpowiedniego oszacowania gęstości i jest pokrętłem, które kontroluje kompromis między odchyleniem a odchyleniem w oszacowaniu gęstości: zbyt wąskie pasmo prowadzi do oszacowania dużej wariancji (over-fitting), where gdzie obecność lub brak pojedynczego punktu robi dużą różnicę. Zbyt szerokie pasmo prowadzi do oszacowania wysokiego obciążenia (under-fitting) w którym struktura danych jest wymywana przez szerokie jądro.\n",
    "\n",
    "Statystyka metod szybkiego szacowania najlepszej przepustowości ma długą historię w oparciu o dość rygorystyczne założenia dotyczące danych: jeśli na przykład przejrzysz implementacje KDE w pakietach SciPy i StatsModels, zobaczysz implementacje oparte na niektórych z tych zasady.\n",
    "\n",
    "W kontekstach uczenia maszynowego widzieliśmy, że takie strojenie hiperparametrów często odbywa się empirycznie za pomocą metody weryfikacji krzyżowej.\n",
    "Mając to na uwadze, estymator ``KernelDensity`` w Scikit-Learn jest zaprojektowany w taki sposób, że może być używany bezpośrednio w standardowych ``GridSearchCV``\n",
    "\n",
    "Ponieważ patrzymy na tak mały zbiór danych, zastosujemy walidację krzyżową z pominięciem jednego wyjścia, które minimalizuje redukcję rozmiaru zestawu uczącego dla każdej próby walidacji krzyżowej:"
   ]
  },
  {
   "cell_type": "code",
   "execution_count": 12,
   "metadata": {
    "id": "Q7sgAWR1Wfcs"
   },
   "outputs": [],
   "source": [
    "from sklearn.model_selection import GridSearchCV\n",
    "from sklearn.model_selection  import LeaveOneOut\n",
    "\n",
    "bandwidths = 10 ** np.linspace(-1, 1, 100)\n",
    "grid = GridSearchCV(KernelDensity(kernel='gaussian'),\n",
    "                    {'bandwidth': bandwidths},\n",
    "                    cv=LeaveOneOut())\n",
    "grid.fit(x[:, None]);"
   ]
  },
  {
   "cell_type": "markdown",
   "metadata": {
    "id": "ydH5fYhBWfcy"
   },
   "source": [
    "Teraz możemy znaleźć wybór przepustowości, który maksymalizuje wynik (który w tym przypadku jest domyślną logarytmiczną funkcją wiarygodności):"
   ]
  },
  {
   "cell_type": "code",
   "execution_count": 13,
   "metadata": {
    "id": "k3Q3iX-iWfcz",
    "outputId": "046faad0-fce4-4fd9-da28-948c16d404ee"
   },
   "outputs": [
    {
     "data": {
      "text/plain": [
       "{'bandwidth': 1.1233240329780276}"
      ]
     },
     "execution_count": 13,
     "metadata": {},
     "output_type": "execute_result"
    }
   ],
   "source": [
    "grid.best_params_"
   ]
  },
  {
   "cell_type": "code",
   "execution_count": 14,
   "metadata": {},
   "outputs": [
    {
     "name": "stderr",
     "output_type": "stream",
     "text": [
      "C:\\Users\\KIGEIT\\anaconda3\\lib\\site-packages\\sklearn\\model_selection\\_search.py:788: RuntimeWarning: invalid value encountered in subtract\n",
      "  array_means[:, np.newaxis]) ** 2,\n"
     ]
    },
    {
     "data": {
      "text/plain": [
       "{'bandwidth': 2.3644894126454084}"
      ]
     },
     "execution_count": 14,
     "metadata": {},
     "output_type": "execute_result"
    }
   ],
   "source": [
    "from sklearn.model_selection import GridSearchCV\n",
    "from sklearn.model_selection  import LeaveOneOut\n",
    "\n",
    "bandwidths = 10 ** np.linspace(-1, 1, 100)\n",
    "grid = GridSearchCV(KernelDensity(kernel='epanechnikov'),\n",
    "                    {'bandwidth': bandwidths},\n",
    "                    cv=LeaveOneOut())\n",
    "grid.fit(x[:, None]);\n",
    "grid.best_params_"
   ]
  },
  {
   "cell_type": "markdown",
   "metadata": {
    "id": "CXEp43ZtWfc7"
   },
   "source": [
    "Optymalna przepustowość jest bardzo zbliżona do tej, której użyliśmy na wcześniejszym przykładowym wykresie, gdzie przepustowość wynosiła 1.0 ( domyślna szerokość ``scipy.stats.norm``)."
   ]
  },
  {
   "cell_type": "markdown",
   "metadata": {
    "id": "oyR7E6xZWfc8"
   },
   "source": [
    "## Przykład: KDE na sferze\n",
    "\n",
    "Być może najbardziej powszechnym zastosowaniem KDE jest graficzne przedstawianie dystrybucji punktów.\n",
    "Na przykład w bibliotece wizualizacji Seaborn, KDE jest wbudowane i automatycznie używane do wizualizacji punktów w jednym i dwóch wymiarach.\n",
    "\n",
    "Tutaj przyjrzymy się nieco bardziej wyrafinowanemu wykorzystaniu KDE do wizualizacji dystrybucji.\n",
    "Wykorzystamy niektóre dane geograficzne, które można załadować za pomocą Scikit-Learn: geograficzne rozmieszczenie zarejestrowanych obserwacji dwóch południowoamerykańskich ssaków, *Bradypus variegatus* (leniwiec brunatny) i *Microryzomys minutus* (leśny mały szczur ryżowy).\n",
    "\n",
    "Dzięki Scikit-Learn możemy pobrać te dane w następujący sposób:"
   ]
  },
  {
   "cell_type": "code",
   "execution_count": 15,
   "metadata": {
    "id": "-zlgM4u-Wfc9"
   },
   "outputs": [],
   "source": [
    "import numpy as np\n",
    "from sklearn.datasets import fetch_species_distributions\n",
    "\n",
    "data = fetch_species_distributions()\n",
    "\n",
    "# Get matrices/arrays of species IDs and locations\n",
    "latlon = np.vstack([data.train['dd lat'],\n",
    "                    data.train['dd long']]).T\n",
    "species = np.array([d.decode('ascii').startswith('micro')\n",
    "                    for d in data.train['species']], dtype='int')"
   ]
  },
  {
   "cell_type": "markdown",
   "metadata": {
    "id": "qHJbhxksWfdC"
   },
   "source": [
    "Po załadowaniu tych danych możemy użyć zestawu narzędzi do wykreślenia obserwowanych lokalizacji tych dwóch gatunków na mapie Ameryki Południowej."
   ]
  },
  {
   "cell_type": "code",
   "execution_count": 16,
   "metadata": {},
   "outputs": [
    {
     "name": "stderr",
     "output_type": "stream",
     "text": [
      "C:\\Users\\KIGEIT\\anaconda3\\lib\\site-packages\\sklearn\\utils\\deprecation.py:144: FutureWarning: The sklearn.datasets.species_distributions module is  deprecated in version 0.22 and will be removed in version 0.24. The corresponding classes / functions should instead be imported from sklearn.datasets. Anything that cannot be imported from sklearn.datasets is now part of the private API.\n",
      "  warnings.warn(message, FutureWarning)\n"
     ]
    },
    {
     "data": {
      "image/png": "[encoded data removed]",
      "text/plain": [
       "<Figure size 432x288 with 1 Axes>"
      ]
     },
     "metadata": {},
     "output_type": "display_data"
    }
   ],
   "source": [
    "import conda\n",
    "import os\n",
    "\n",
    "conda_file_dir = conda.__file__\n",
    "conda_dir = conda_file_dir.split('lib')[0]\n",
    "proj_lib = os.path.join(os.path.join(conda_dir, 'share'), 'proj')\n",
    "os.environ[\"PROJ_LIB\"] = proj_lib\n",
    "from mpl_toolkits.basemap import Basemap\n",
    "from sklearn.datasets.species_distributions import construct_grids\n",
    "\n",
    "xgrid, ygrid = construct_grids(data)\n",
    "\n",
    "# plot coastlines with basemap\n",
    "m = Basemap(projection='cyl', resolution='c',\n",
    "            llcrnrlat=ygrid.min(), urcrnrlat=ygrid.max(),\n",
    "            llcrnrlon=xgrid.min(), urcrnrlon=xgrid.max())\n",
    "m.drawmapboundary(fill_color='#DDEEFF')\n",
    "m.fillcontinents(color='#FFEEDD')\n",
    "m.drawcoastlines(color='gray', zorder=2)\n",
    "m.drawcountries(color='gray', zorder=2)\n",
    "\n",
    "# plot locations\n",
    "m.scatter(latlon[:, 1], latlon[:, 0], zorder=3,\n",
    "          c=species, cmap='rainbow', latlon=True);"
   ]
  },
  {
   "cell_type": "markdown",
   "metadata": {
    "id": "Msid2p7_WfdL"
   },
   "source": [
    "Niestety nie daje to dobrego wyobrażenia o zagęszczeniu gatunku, ponieważ punkty w zasięgu gatunków mogą się na siebie nakładać. Mamy tu ponad 1600 punktów.\n",
    "\n",
    "Użyjmy oszacowania gęstości jądra, aby pokazać ten rozkład w bardziej interpretowalny sposób: jako płynne wskazanie gęstości na mapie. Ponieważ układ współrzędnych leży tutaj na powierzchni kulistej, a nie na płaskiej płaszczyźnie, użyjemy metryki odległości ``haversine``, która będzie poprawnie przedstawiać odległości na zakrzywionej powierzchni.\n",
    "\n",
    "Jest tu trochę standardowego kodu (jedna z wad zestawu narzędzi mapy bazowej), ale znaczenie każdego bloku kodu powinno być jasne:"
   ]
  },
  {
   "cell_type": "code",
   "execution_count": 18,
   "metadata": {
    "id": "v21kfy5_WfdM",
    "outputId": "c445fbfd-bbbe-4580-9180-f43503e78ed8"
   },
   "outputs": [
    {
     "data": {
      "image/png": "[encoded data removed]",
      "text/plain": [
       "<Figure size 432x288 with 2 Axes>"
      ]
     },
     "metadata": {},
     "output_type": "display_data"
    }
   ],
   "source": [
    "# Set up the data grid for the contour plot\n",
    "X, Y = np.meshgrid(xgrid[::5], ygrid[::5][::-1])\n",
    "land_reference = data.coverages[6][::5, ::5]\n",
    "land_mask = (land_reference > -9999).ravel()\n",
    "xy = np.vstack([Y.ravel(), X.ravel()]).T\n",
    "xy = np.radians(xy[land_mask])\n",
    "\n",
    "# Create two side-by-side plots\n",
    "fig, ax = plt.subplots(1, 2)\n",
    "fig.subplots_adjust(left=0.05, right=0.95, wspace=0.05)\n",
    "species_names = ['Bradypus Variegatus', 'Microryzomys Minutus']\n",
    "cmaps = ['Purples', 'Reds']\n",
    "\n",
    "for i, axi in enumerate(ax):\n",
    "    axi.set_title(species_names[i])\n",
    "    \n",
    "    # plot coastlines with basemap\n",
    "    m = Basemap(projection='cyl', llcrnrlat=Y.min(),\n",
    "                urcrnrlat=Y.max(), llcrnrlon=X.min(),\n",
    "                urcrnrlon=X.max(), resolution='c', ax=axi)\n",
    "    m.drawmapboundary(fill_color='#DDEEFF')\n",
    "    m.drawcoastlines()\n",
    "    m.drawcountries()\n",
    "    \n",
    "    # construct a spherical kernel density estimate of the distribution\n",
    "    kde = KernelDensity(bandwidth=0.03, metric='haversine')\n",
    "    kde.fit(np.radians(latlon[species == i]))\n",
    "\n",
    "    # evaluate only on the land: -9999 indicates ocean\n",
    "    Z = np.full(land_mask.shape[0], -9999.0)\n",
    "    Z[land_mask] = np.exp(kde.score_samples(xy))\n",
    "    Z = Z.reshape(X.shape)\n",
    "\n",
    "    # plot contours of the density\n",
    "    levels = np.linspace(0, Z.max(), 25)\n",
    "    axi.contourf(X, Y, Z, levels=levels, cmap=cmaps[i])"
   ]
  },
  {
   "cell_type": "markdown",
   "metadata": {
    "id": "p_JbaD4nWfdS"
   },
   "source": [
    "W porównaniu z prostym wykresem punktowym, którego używaliśmy na początku, ta wizualizacja przedstawia znacznie wyraźniejszy obraz geograficznego rozmieszczenia obserwacji tych dwóch gatunków."
   ]
  },
  {
   "cell_type": "markdown",
   "metadata": {
    "id": "jZnCtfFSWfdV"
   },
   "source": [
    "## Example: Not-So-Naive Bayes\n",
    "\n",
    "Ten przykład przedstawia klasyfikację generatywną Bayesa w KDE i demonstruje, jak używać architektury Scikit-Learn do tworzenia niestandardowego estymatora.\n",
    "\n",
    "Za pomocą algorytmu szacowania gęstości, takiego jak KDE, możemy usunąć element „naiwny” i przeprowadzić taką samą klasyfikację z bardziej wyrafinowanym modelem generującym dla każdej klasy.\n",
    "To wciąż klasyfikacja Bayesa, ale nie jest już naiwna.\n",
    "\n",
    "Ogólne podejście do klasyfikacji generatywnej jest następujące:\n",
    "\n",
    "1. Podziel dane treningowe według etykiet.\n",
    "\n",
    "2. Dla każdego zestawu dopasuj KDE, aby uzyskać generatywny model danych.\n",
    "   Pozwala wyliczenie funkcji wiarygodności $P(x~|~y)$ dla dowolnej obserwacji  $x$ i etykiety $y$.\n",
    "   \n",
    "3. Z liczby przykładów każdej klasy w zbiorze uczącym oblicz *class prior*, $P(y)$.\n",
    "\n",
    "4. Dla nieznanego punktu $x$, prawdopodobieństwo posterior dla każdej klasy wynosi $P(y~|~x) \\propto P(x~|~y)P(y)$.\n",
    "   Maksymalna wartość przypisana zostaje do danego punktu.\n",
    "\n",
    "Algorytm jest prosty i intuicyjny do zrozumienia; trudniejszym elementem jest umieszczenie go w ramach Scikit-Learn w celu wykorzystania architektury wyszukiwania w siatce i weryfikacji krzyżowej.\n",
    "\n",
    "To jest kod, który implementuje algorytm w ramach Scikit-Learn; przejdziemy przez to zgodnie z blokiem kodu:"
   ]
  },
  {
   "cell_type": "code",
   "execution_count": 19,
   "metadata": {
    "id": "g-4htz-RWfdW"
   },
   "outputs": [],
   "source": [
    "from sklearn.base import BaseEstimator, ClassifierMixin\n",
    "\n",
    "\n",
    "class KDEClassifier(BaseEstimator, ClassifierMixin):\n",
    "    \"\"\"Bayesian generative classification based on KDE\n",
    "    \n",
    "    Parameters\n",
    "    ----------\n",
    "    bandwidth : float\n",
    "        the kernel bandwidth within each class\n",
    "    kernel : str\n",
    "        the kernel name, passed to KernelDensity\n",
    "    \"\"\"\n",
    "    def __init__(self, bandwidth=1.0, kernel='gaussian'):\n",
    "        self.bandwidth = bandwidth\n",
    "        self.kernel = kernel\n",
    "        \n",
    "    def fit(self, X, y):\n",
    "        self.classes_ = np.sort(np.unique(y))\n",
    "        training_sets = [X[y == yi] for yi in self.classes_]\n",
    "        self.models_ = [KernelDensity(bandwidth=self.bandwidth,\n",
    "                                      kernel=self.kernel).fit(Xi)\n",
    "                        for Xi in training_sets]\n",
    "        self.logpriors_ = [np.log(Xi.shape[0] / X.shape[0])\n",
    "                           for Xi in training_sets]\n",
    "        return self\n",
    "        \n",
    "    def predict_proba(self, X):\n",
    "        logprobs = np.array([model.score_samples(X)\n",
    "                             for model in self.models_]).T\n",
    "        result = np.exp(logprobs + self.logpriors_)\n",
    "        return result / result.sum(1, keepdims=True)\n",
    "        \n",
    "    def predict(self, X):\n",
    "        return self.classes_[np.argmax(self.predict_proba(X), 1)]"
   ]
  },
  {
   "cell_type": "markdown",
   "metadata": {
    "id": "T_Awh1sZWfdd"
   },
   "source": [
    "### Anatomia estymatora niestandardowego"
   ]
  },
  {
   "cell_type": "markdown",
   "metadata": {
    "id": "bx5Z7mUfWfde"
   },
   "source": [
    "Przejdźmy przez ten kod i omówmy najważniejsze funkcje:\n",
    "\n",
    "```python\n",
    "from sklearn.base import BaseEstimator, ClassifierMixin\n",
    "\n",
    "class KDEClassifier(BaseEstimator, ClassifierMixin):\n",
    "    \"\"\"Bayesian generative classification based on KDE\n",
    "    \n",
    "    Parameters\n",
    "    ----------\n",
    "    bandwidth : float\n",
    "        the kernel bandwidth within each class\n",
    "    kernel : str\n",
    "        the kernel name, passed to KernelDensity\n",
    "    \"\"\"\n",
    "```\n"
   ]
  },
  {
   "cell_type": "markdown",
   "metadata": {
    "id": "OFcfLvWYWfdf"
   },
   "source": [
    "Dalej jest metoda inicjalizacji klasy:\n",
    "\n",
    "```python\n",
    "    def __init__(self, bandwidth=1.0, kernel='gaussian'):\n",
    "        self.bandwidth = bandwidth\n",
    "        self.kernel = kernel\n",
    "```\n",
    "\n",
    "To jest rzeczywisty kod, który jest wykonywany, gdy obiekt jest tworzony za pomocą``KDEClassifier()``.\n",
    "W Scikit-Learn ważne jest, aby *initialization contains no operations* other than assigning the passed values by name to ``self``.\n",
    "Wynika to z logiki zawartej w `` BaseEstimator `` wymaganej do klonowania i modyfikowania estymatorów do walidacji krzyżowej, przeszukiwania siatki i innych funkcji.\n",
    "Podobnie, wszystkie argumenty do `` __init__ `` powinny być jawne: tj. Należy unikać `` * args `` lub `` ** kwargs ``, ponieważ nie będą one poprawnie obsługiwane w ramach procedur weryfikacji krzyżowej.\n"
   ]
  },
  {
   "cell_type": "markdown",
   "metadata": {
    "id": "HVW-O4UTWfdg"
   },
   "source": [
    "Dalej jest metoda `` fit () `` , w której obsługujemy dane treningowe:\n",
    "```python \n",
    "    def fit(self, X, y):\n",
    "        self.classes_ = np.sort(np.unique(y))\n",
    "        training_sets = [X[y == yi] for yi in self.classes_]\n",
    "        self.models_ = [KernelDensity(bandwidth=self.bandwidth,\n",
    "                                      kernel=self.kernel).fit(Xi)\n",
    "                        for Xi in training_sets]\n",
    "        self.logpriors_ = [np.log(Xi.shape[0] / X.shape[0])\n",
    "                           for Xi in training_sets]\n",
    "        return self\n",
    "```\n",
    "\n",
    "Tutaj znajdziemy unikalne klasy w danych treningowych, trenuj ``KernelDensity`` model dla każdej klasy i obliczyć wcześniejsze klasy na podstawie liczby próbek wejściowych.\n",
    "Ostatecznie, ``fit()`` powinien zawsze zwracać ``self`` abyśmy mogli łączyć polecenia. Na przykład:\n",
    "```python\n",
    "label = model.fit(X, y).predict(X)\n",
    "```\n",
    "Zauważ, że każdy trwały wynik dopasowania jest przechowywany z końcowym podkreśleniem  (``self.logpriors_``).\n",
    "Jest to konwencja używana w Scikit-Learn, dzięki czemu można szybko przeskanować elementy składowe estymatora (za pomocą uzupełniania zakładek w IPython) i zobaczyć dokładnie, którzy członkowie są dopasowani do danych szkoleniowych."
   ]
  },
  {
   "cell_type": "markdown",
   "metadata": {
    "id": "3wgOKzwZWfdh"
   },
   "source": [
    "Finally, we have the logic for predicting labels on new data:\n",
    "```python\n",
    "    def predict_proba(self, X):\n",
    "        logprobs = np.vstack([model.score_samples(X)\n",
    "                              for model in self.models_]).T\n",
    "        result = np.exp(logprobs + self.logpriors_)\n",
    "        return result / result.sum(1, keepdims=True)\n",
    "        \n",
    "    def predict(self, X):\n",
    "        return self.classes_[np.argmax(self.predict_proba(X), 1)]\n",
    "```\n",
    "Ponieważ jest to klasyfikator probabilistyczny, najpierw  implementujemy ``predict_proba()`` która zwraca tablicę prawdopodobieństw klas kształtu``[n_samples, n_classes]``.\n",
    "Wprowadź ``[i, j]`` tej tablicy jest późniejszym prawdopodobieństwem tej próbki``i`` jest członkiem klasy ``j``, obliczane przez pomnożenie prawdopodobieństwa przez klasę wcześniejszą i normalizującą.\n",
    "\n",
    "Ostatecznie metoda  ``predict()`` wykorzystuje te prawdopodobieństwa i po prostu zwraca klasę z największym prawdopodobieństwem."
   ]
  },
  {
   "cell_type": "markdown",
   "metadata": {
    "id": "ox6vZ37hWfdi"
   },
   "source": [
    "### Korzystanie z naszego kalkulatora niestandardowego\n",
    "\n",
    "Wypróbujmy ten niestandardowy estymator w przypadku problemu, który widzieliśmy wcześniej: klasyfikacji odręcznych cyfr.\n",
    "Tutaj załadujemy cyfry i obliczymy wynik weryfikacji krzyżowej dla zakresu kandydujących przepustowości przy użyciu metody ``GridSearchCV``"
   ]
  },
  {
   "cell_type": "code",
   "execution_count": 20,
   "metadata": {
    "id": "j3NuG-gwWfdj"
   },
   "outputs": [
    {
     "data": {
      "text/plain": [
       "{'bandwidth': 6.135907273413174}"
      ]
     },
     "execution_count": 20,
     "metadata": {},
     "output_type": "execute_result"
    }
   ],
   "source": [
    "from sklearn.datasets import load_digits\n",
    "from sklearn.model_selection import GridSearchCV\n",
    "\n",
    "digits = load_digits()\n",
    "\n",
    "bandwidths = 10 ** np.linspace(0, 2, 100)\n",
    "grid = GridSearchCV(KDEClassifier(), {'bandwidth': bandwidths})\n",
    "grid.fit(digits.data, digits.target)\n",
    "\n",
    "grid.best_params_\n",
    "\n"
   ]
  },
  {
   "cell_type": "markdown",
   "metadata": {
    "id": "OuD8gfR5Wfdp"
   },
   "source": [
    "Następnie możemy wykreślić wynik weryfikacji krzyżowej jako funkcję tłumienia:"
   ]
  },
  {
   "cell_type": "code",
   "execution_count": 21,
   "metadata": {},
   "outputs": [
    {
     "data": {
      "text/plain": [
       "array([0.44075364, 0.41066388, 0.51198081, 0.39398948, 0.43683535,\n",
       "       0.40680749, 0.42459455, 0.47246209, 0.42458372, 0.43517332,\n",
       "       0.46243268, 0.45688487, 0.49806716, 0.50307645, 0.59490096,\n",
       "       0.61939957, 0.67169762, 0.6833875 , 0.74680749, 0.79467502,\n",
       "       0.81918137, 0.85032498, 0.88539461, 0.91487929, 0.92601362,\n",
       "       0.93935624, 0.95048592, 0.95716496, 0.96050139, 0.96439183,\n",
       "       0.96550604, 0.96606159, 0.96606314, 0.96661869, 0.96661869,\n",
       "       0.96662024, 0.96606314, 0.96661869, 0.96661869, 0.96772981,\n",
       "       0.96717425, 0.96661869, 0.9671758 , 0.96606314, 0.96606469,\n",
       "       0.96495357, 0.96439802, 0.96217425, 0.95994893, 0.95605076,\n",
       "       0.95605076, 0.95604921, 0.9543779 , 0.95215258, 0.95047973,\n",
       "       0.94769576, 0.94658155, 0.94156763, 0.94045497, 0.93711699,\n",
       "       0.93489322, 0.92988394, 0.92376354, 0.91930826, 0.91430362,\n",
       "       0.90762303, 0.90261529, 0.89983287, 0.897606  , 0.89426493,\n",
       "       0.89092386, 0.89036831, 0.88703188, 0.88258124, 0.87757041,\n",
       "       0.87590374, 0.87534819, 0.87312132, 0.87089755, 0.86866914,\n",
       "       0.86700093, 0.86533271, 0.86477406, 0.86366295, 0.86088363,\n",
       "       0.85531879, 0.84919375, 0.84029248, 0.83473383, 0.82917518,\n",
       "       0.82137883, 0.81469978, 0.80190344, 0.79077994, 0.77632157,\n",
       "       0.76352677, 0.75073661, 0.73905602, 0.72180439, 0.71179047])"
      ]
     },
     "execution_count": 21,
     "metadata": {},
     "output_type": "execute_result"
    }
   ],
   "source": [
    "grid.cv_results_['mean_test_score']"
   ]
  },
  {
   "cell_type": "code",
   "execution_count": 22,
   "metadata": {
    "id": "xECTL5nhWfdq",
    "outputId": "01a7743e-e932-45d7-92f8-3220764b3725"
   },
   "outputs": [
    {
     "name": "stdout",
     "output_type": "stream",
     "text": [
      "accuracy = 0.9677298050139276\n"
     ]
    },
    {
     "data": {
      "image/png": "[encoded data removed]",
      "text/plain": [
       "<Figure size 432x288 with 1 Axes>"
      ]
     },
     "metadata": {},
     "output_type": "display_data"
    }
   ],
   "source": [
    "plt.semilogx(grid.param_grid['bandwidth'], grid.cv_results_['mean_test_score'])\n",
    "plt.xlabel('bandwidth')\n",
    "plt.ylabel('accuracy')\n",
    "plt.title('KDE Model Performance')\n",
    "\n",
    "print('accuracy =', grid.best_score_)"
   ]
  },
  {
   "cell_type": "markdown",
   "metadata": {
    "id": "opOGL7ahWfdv"
   },
   "source": [
    "Widzimy, że ten niezbyt naiwny klasyfikator bayesowski osiąga dokładność walidacji krzyżowej nieco ponad 96%; jest to w porównaniu z około 80% dla naiwnej klasyfikacji bayesowskiej:"
   ]
  },
  {
   "cell_type": "code",
   "execution_count": 23,
   "metadata": {
    "id": "M-W3EYaVWfdx",
    "outputId": "d1e99ea5-8840-4a3c-b1ab-ebbb8ad87b00"
   },
   "outputs": [
    {
     "data": {
      "text/plain": [
       "0.8069281956050759"
      ]
     },
     "execution_count": 23,
     "metadata": {},
     "output_type": "execute_result"
    }
   ],
   "source": [
    "from sklearn.naive_bayes import GaussianNB\n",
    "from sklearn.model_selection import cross_val_score\n",
    "cross_val_score(GaussianNB(), digits.data, digits.target).mean()"
   ]
  },
  {
   "cell_type": "markdown",
   "metadata": {
    "id": "xhH-lIQgWfd3"
   },
   "source": [
    "Jedną z zalet takiego generatywnego klasyfikatora jest interpretowalność wyników: dla każdej nieznanej próbki otrzymujemy nie tylko klasyfikację probabilistyczną, ale także * pełny model * rozkładu punktów, z którymi ją porównujemy!\n",
    "W razie potrzeby oferuje to intuicyjne okno na przyczyny określonej klasyfikacji, które algorytmy takie jak maszyny SVM i losowe lasy zwykle zaciemniają.\n",
    "\n",
    "Jeśli chcesz pójść dalej, istnieje kilka ulepszeń, które można wprowadzić w naszym modelu klasyfikatora KDE:\n",
    "\n",
    "- moglibyśmy pozwolić, aby przepustowość w każdej klasie zmieniała się niezależnie\n",
    "- moglibyśmy zoptymalizować te przepustowości nie na podstawie ich wyniku predykcji, ale na podstawie prawdopodobieństwa danych uczących w ramach modelu generatywnego w każdej klasie (tj. użyć wyników z samego `` KernelDensity `` zamiast globalnej dokładności prognoz)\n",
    "\n",
    "Na koniec, jeśli chcesz trochę poćwiczyć budowanie własnego estymatora, możesz zająć się budowaniem podobnego klasyfikatora bayesowskiego przy użyciu  Gaussian Mixture Models zamiast KDE.\n"
   ]
  }
 ],
 "metadata": {
  "anaconda-cloud": {},
  "colab": {
   "name": "Kopia notatnika 05.13-Kernel-Density-Estimation.ipynb",
   "provenance": [
    {
     "file_id": "https://github.com/jakevdp/PythonDataScienceHandbook/blob/master/notebooks/05.13-Kernel-Density-Estimation.ipynb",
     "timestamp": 1604478207875
    }
   ]
  },
  "kernelspec": {
   "display_name": "Python 3",
   "language": "python",
   "name": "python3"
  },
  "language_info": {
   "codemirror_mode": {
    "name": "ipython",
    "version": 3
   },
   "file_extension": ".py",
   "mimetype": "text/x-python",
   "name": "python",
   "nbconvert_exporter": "python",
   "pygments_lexer": "ipython3",
   "version": "3.8.3"
  }
 },
 "nbformat": 4,
 "nbformat_minor": 4
}
