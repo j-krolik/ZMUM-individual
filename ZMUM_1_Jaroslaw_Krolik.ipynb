{
 "cells": [
  {
   "cell_type": "markdown",
   "metadata": {},
   "source": [
    "## ZMUM 1\n",
    "\n",
    "# Analiza i wizualizacja danch"
   ]
  },
  {
   "cell_type": "markdown",
   "metadata": {},
   "source": [
    "## 1. Wczytywanie danych"
   ]
  },
  {
   "cell_type": "markdown",
   "metadata": {},
   "source": [
    "Wczytujemy niezbędne pakiety"
   ]
  },
  {
   "cell_type": "code",
   "execution_count": 2,
   "metadata": {},
   "outputs": [],
   "source": [
    "import numpy as np\n",
    "import pandas as pd\n",
    "import seaborn as sns\n",
    "import matplotlib.pyplot as plt\n",
    "from sklearn import datasets"
   ]
  },
  {
   "cell_type": "markdown",
   "metadata": {},
   "source": [
    "Wczytywanie danych z pliku 'csv', informacja o ramce danych"
   ]
  },
  {
   "cell_type": "code",
   "execution_count": 3,
   "metadata": {},
   "outputs": [
    {
     "name": "stdout",
     "output_type": "stream",
     "text": [
      "<class 'pandas.core.frame.DataFrame'>\n",
      "RangeIndex: 80 entries, 0 to 79\n",
      "Data columns (total 3 columns):\n",
      " #   Column    Non-Null Count  Dtype \n",
      "---  ------    --------------  ----- \n",
      " 0   atrybut1  80 non-null     int64 \n",
      " 1   atrybut2  80 non-null     int64 \n",
      " 2   klasa     80 non-null     object\n",
      "dtypes: int64(2), object(1)\n",
      "memory usage: 2.0+ KB\n"
     ]
    }
   ],
   "source": [
    "d = pd.read_csv('dane1.csv')\n",
    "d.info()"
   ]
  },
  {
   "cell_type": "markdown",
   "metadata": {},
   "source": [
    "Pierwszych 5 obiektów"
   ]
  },
  {
   "cell_type": "code",
   "execution_count": 3,
   "metadata": {},
   "outputs": [
    {
     "data": {
      "text/html": [
       "<div>\n",
       "<style scoped>\n",
       "    .dataframe tbody tr th:only-of-type {\n",
       "        vertical-align: middle;\n",
       "    }\n",
       "\n",
       "    .dataframe tbody tr th {\n",
       "        vertical-align: top;\n",
       "    }\n",
       "\n",
       "    .dataframe thead th {\n",
       "        text-align: right;\n",
       "    }\n",
       "</style>\n",
       "<table border=\"1\" class=\"dataframe\">\n",
       "  <thead>\n",
       "    <tr style=\"text-align: right;\">\n",
       "      <th></th>\n",
       "      <th>atrybut1</th>\n",
       "      <th>atrybut2</th>\n",
       "      <th>klasa</th>\n",
       "    </tr>\n",
       "  </thead>\n",
       "  <tbody>\n",
       "    <tr>\n",
       "      <th>0</th>\n",
       "      <td>86</td>\n",
       "      <td>43</td>\n",
       "      <td>klasa 3</td>\n",
       "    </tr>\n",
       "    <tr>\n",
       "      <th>1</th>\n",
       "      <td>79</td>\n",
       "      <td>50</td>\n",
       "      <td>klasa 3</td>\n",
       "    </tr>\n",
       "    <tr>\n",
       "      <th>2</th>\n",
       "      <td>73</td>\n",
       "      <td>49</td>\n",
       "      <td>klasa 3</td>\n",
       "    </tr>\n",
       "    <tr>\n",
       "      <th>3</th>\n",
       "      <td>69</td>\n",
       "      <td>49</td>\n",
       "      <td>klasa 3</td>\n",
       "    </tr>\n",
       "    <tr>\n",
       "      <th>4</th>\n",
       "      <td>74</td>\n",
       "      <td>43</td>\n",
       "      <td>klasa 3</td>\n",
       "    </tr>\n",
       "  </tbody>\n",
       "</table>\n",
       "</div>"
      ],
      "text/plain": [
       "   atrybut1  atrybut2    klasa\n",
       "0        86        43  klasa 3\n",
       "1        79        50  klasa 3\n",
       "2        73        49  klasa 3\n",
       "3        69        49  klasa 3\n",
       "4        74        43  klasa 3"
      ]
     },
     "execution_count": 3,
     "metadata": {},
     "output_type": "execute_result"
    }
   ],
   "source": [
    "d.head()"
   ]
  },
  {
   "cell_type": "markdown",
   "metadata": {},
   "source": [
    "Ładowanie zbioru danych dostępnego w pakiecie"
   ]
  },
  {
   "cell_type": "code",
   "execution_count": 4,
   "metadata": {},
   "outputs": [
    {
     "data": {
      "text/html": [
       "<div>\n",
       "<style scoped>\n",
       "    .dataframe tbody tr th:only-of-type {\n",
       "        vertical-align: middle;\n",
       "    }\n",
       "\n",
       "    .dataframe tbody tr th {\n",
       "        vertical-align: top;\n",
       "    }\n",
       "\n",
       "    .dataframe thead th {\n",
       "        text-align: right;\n",
       "    }\n",
       "</style>\n",
       "<table border=\"1\" class=\"dataframe\">\n",
       "  <thead>\n",
       "    <tr style=\"text-align: right;\">\n",
       "      <th></th>\n",
       "      <th>sepal_length</th>\n",
       "      <th>sepal_width</th>\n",
       "      <th>petal_length</th>\n",
       "      <th>petal_width</th>\n",
       "      <th>species</th>\n",
       "    </tr>\n",
       "  </thead>\n",
       "  <tbody>\n",
       "    <tr>\n",
       "      <th>0</th>\n",
       "      <td>5.1</td>\n",
       "      <td>3.5</td>\n",
       "      <td>1.4</td>\n",
       "      <td>0.2</td>\n",
       "      <td>setosa</td>\n",
       "    </tr>\n",
       "    <tr>\n",
       "      <th>1</th>\n",
       "      <td>4.9</td>\n",
       "      <td>3.0</td>\n",
       "      <td>1.4</td>\n",
       "      <td>0.2</td>\n",
       "      <td>setosa</td>\n",
       "    </tr>\n",
       "    <tr>\n",
       "      <th>2</th>\n",
       "      <td>4.7</td>\n",
       "      <td>3.2</td>\n",
       "      <td>1.3</td>\n",
       "      <td>0.2</td>\n",
       "      <td>setosa</td>\n",
       "    </tr>\n",
       "    <tr>\n",
       "      <th>3</th>\n",
       "      <td>4.6</td>\n",
       "      <td>3.1</td>\n",
       "      <td>1.5</td>\n",
       "      <td>0.2</td>\n",
       "      <td>setosa</td>\n",
       "    </tr>\n",
       "    <tr>\n",
       "      <th>4</th>\n",
       "      <td>5.0</td>\n",
       "      <td>3.6</td>\n",
       "      <td>1.4</td>\n",
       "      <td>0.2</td>\n",
       "      <td>setosa</td>\n",
       "    </tr>\n",
       "  </tbody>\n",
       "</table>\n",
       "</div>"
      ],
      "text/plain": [
       "   sepal_length  sepal_width  petal_length  petal_width species\n",
       "0           5.1          3.5           1.4          0.2  setosa\n",
       "1           4.9          3.0           1.4          0.2  setosa\n",
       "2           4.7          3.2           1.3          0.2  setosa\n",
       "3           4.6          3.1           1.5          0.2  setosa\n",
       "4           5.0          3.6           1.4          0.2  setosa"
      ]
     },
     "execution_count": 4,
     "metadata": {},
     "output_type": "execute_result"
    }
   ],
   "source": [
    "from seaborn import load_dataset\n",
    "iris = load_dataset(\"iris\")\n",
    "iris.head()"
   ]
  },
  {
   "cell_type": "markdown",
   "metadata": {},
   "source": [
    "Te same dane mogą być dotępne w różnych formatach (iris w pakiecie scikit-learn)"
   ]
  },
  {
   "cell_type": "markdown",
   "metadata": {},
   "source": [
    "iris_skl = datasets.load_iris()\n",
    "iris_skl.target.shape\n",
    "print(iris_skl.data[0:5,:])\n",
    "print(iris_skl.target[0:5])\n",
    "iris2 = pd.DataFrame(iris_skl.data, columns = [\"sepal_length\",\"sepal_width\",\"petal_length\",\"petal_width\"])\n",
    "iris2['species'] = iris_skl.target\n",
    "iris2.head()"
   ]
  },
  {
   "cell_type": "markdown",
   "metadata": {},
   "source": [
    "Wczytywanie pliku excela"
   ]
  },
  {
   "cell_type": "code",
   "execution_count": 4,
   "metadata": {},
   "outputs": [
    {
     "name": "stdout",
     "output_type": "stream",
     "text": [
      "<class 'pandas.core.frame.DataFrame'>\n",
      "RangeIndex: 13 entries, 0 to 12\n",
      "Data columns (total 10 columns):\n",
      " #   Column      Non-Null Count  Dtype  \n",
      "---  ------      --------------  -----  \n",
      " 0   Unnamed: 0  0 non-null      float64\n",
      " 1   Unnamed: 1  12 non-null     object \n",
      " 2   Unnamed: 2  12 non-null     object \n",
      " 3   Unnamed: 3  12 non-null     object \n",
      " 4   Unnamed: 4  12 non-null     object \n",
      " 5   Unnamed: 5  12 non-null     object \n",
      " 6   Unnamed: 6  12 non-null     object \n",
      " 7   Unnamed: 7  12 non-null     object \n",
      " 8   Unnamed: 8  12 non-null     object \n",
      " 9   Unnamed: 9  12 non-null     object \n",
      "dtypes: float64(1), object(9)\n",
      "memory usage: 1.1+ KB\n",
      "None\n"
     ]
    },
    {
     "data": {
      "text/html": [
       "<div>\n",
       "<style scoped>\n",
       "    .dataframe tbody tr th:only-of-type {\n",
       "        vertical-align: middle;\n",
       "    }\n",
       "\n",
       "    .dataframe tbody tr th {\n",
       "        vertical-align: top;\n",
       "    }\n",
       "\n",
       "    .dataframe thead th {\n",
       "        text-align: right;\n",
       "    }\n",
       "</style>\n",
       "<table border=\"1\" class=\"dataframe\">\n",
       "  <thead>\n",
       "    <tr style=\"text-align: right;\">\n",
       "      <th></th>\n",
       "      <th>Unnamed: 0</th>\n",
       "      <th>Unnamed: 1</th>\n",
       "      <th>Unnamed: 2</th>\n",
       "      <th>Unnamed: 3</th>\n",
       "      <th>Unnamed: 4</th>\n",
       "      <th>Unnamed: 5</th>\n",
       "      <th>Unnamed: 6</th>\n",
       "      <th>Unnamed: 7</th>\n",
       "      <th>Unnamed: 8</th>\n",
       "      <th>Unnamed: 9</th>\n",
       "    </tr>\n",
       "  </thead>\n",
       "  <tbody>\n",
       "    <tr>\n",
       "      <th>0</th>\n",
       "      <td>NaN</td>\n",
       "      <td>NaN</td>\n",
       "      <td>NaN</td>\n",
       "      <td>NaN</td>\n",
       "      <td>NaN</td>\n",
       "      <td>NaN</td>\n",
       "      <td>NaN</td>\n",
       "      <td>NaN</td>\n",
       "      <td>NaN</td>\n",
       "      <td>NaN</td>\n",
       "    </tr>\n",
       "    <tr>\n",
       "      <th>1</th>\n",
       "      <td>NaN</td>\n",
       "      <td>Obs.</td>\n",
       "      <td>x1</td>\n",
       "      <td>y1</td>\n",
       "      <td>x2</td>\n",
       "      <td>y2</td>\n",
       "      <td>x3</td>\n",
       "      <td>y3</td>\n",
       "      <td>x4</td>\n",
       "      <td>y4</td>\n",
       "    </tr>\n",
       "    <tr>\n",
       "      <th>2</th>\n",
       "      <td>NaN</td>\n",
       "      <td>1</td>\n",
       "      <td>10</td>\n",
       "      <td>8.04</td>\n",
       "      <td>10</td>\n",
       "      <td>9.14</td>\n",
       "      <td>10</td>\n",
       "      <td>7.46</td>\n",
       "      <td>8</td>\n",
       "      <td>6.58</td>\n",
       "    </tr>\n",
       "    <tr>\n",
       "      <th>3</th>\n",
       "      <td>NaN</td>\n",
       "      <td>2</td>\n",
       "      <td>8</td>\n",
       "      <td>6.95</td>\n",
       "      <td>8</td>\n",
       "      <td>8.14</td>\n",
       "      <td>8</td>\n",
       "      <td>6.77</td>\n",
       "      <td>8</td>\n",
       "      <td>5.76</td>\n",
       "    </tr>\n",
       "    <tr>\n",
       "      <th>4</th>\n",
       "      <td>NaN</td>\n",
       "      <td>3</td>\n",
       "      <td>13</td>\n",
       "      <td>7.58</td>\n",
       "      <td>13</td>\n",
       "      <td>8.74</td>\n",
       "      <td>13</td>\n",
       "      <td>12.74</td>\n",
       "      <td>8</td>\n",
       "      <td>7.71</td>\n",
       "    </tr>\n",
       "  </tbody>\n",
       "</table>\n",
       "</div>"
      ],
      "text/plain": [
       "   Unnamed: 0 Unnamed: 1 Unnamed: 2 Unnamed: 3 Unnamed: 4 Unnamed: 5  \\\n",
       "0         NaN        NaN        NaN        NaN        NaN        NaN   \n",
       "1         NaN       Obs.         x1         y1         x2         y2   \n",
       "2         NaN          1         10       8.04         10       9.14   \n",
       "3         NaN          2          8       6.95          8       8.14   \n",
       "4         NaN          3         13       7.58         13       8.74   \n",
       "\n",
       "  Unnamed: 6 Unnamed: 7 Unnamed: 8 Unnamed: 9  \n",
       "0        NaN        NaN        NaN        NaN  \n",
       "1         x3         y3         x4         y4  \n",
       "2         10       7.46          8       6.58  \n",
       "3          8       6.77          8       5.76  \n",
       "4         13      12.74          8       7.71  "
      ]
     },
     "execution_count": 4,
     "metadata": {},
     "output_type": "execute_result"
    }
   ],
   "source": [
    "a = pd.read_excel('anscombe.xlsx')\n",
    "print(a.info())\n",
    "a.head()"
   ]
  },
  {
   "cell_type": "markdown",
   "metadata": {},
   "source": [
    "Przy pomocy dodatkowych argumentów możliwe jest precyzyjne określenie zakresu danych wczytywanych do ramki."
   ]
  },
  {
   "cell_type": "code",
   "execution_count": 6,
   "metadata": {},
   "outputs": [
    {
     "name": "stdout",
     "output_type": "stream",
     "text": [
      "<class 'pandas.core.frame.DataFrame'>\n",
      "Int64Index: 11 entries, 1 to 11\n",
      "Data columns (total 8 columns):\n",
      " #   Column  Non-Null Count  Dtype  \n",
      "---  ------  --------------  -----  \n",
      " 0   x1      11 non-null     int64  \n",
      " 1   y1      11 non-null     float64\n",
      " 2   x2      11 non-null     int64  \n",
      " 3   y2      11 non-null     float64\n",
      " 4   x3      11 non-null     int64  \n",
      " 5   y3      11 non-null     float64\n",
      " 6   x4      11 non-null     int64  \n",
      " 7   y4      11 non-null     float64\n",
      "dtypes: float64(4), int64(4)\n",
      "memory usage: 792.0 bytes\n",
      "None\n"
     ]
    }
   ],
   "source": [
    "a = pd.read_excel('anscombe.xlsx',header = 2,usecols = range(1,10), index_col = 0)\n",
    "print(a.info())"
   ]
  },
  {
   "cell_type": "markdown",
   "metadata": {},
   "source": [
    "Wczytanie pliku html z lokalizacji sieciowej"
   ]
  },
  {
   "cell_type": "code",
   "execution_count": 7,
   "metadata": {},
   "outputs": [
    {
     "name": "stdout",
     "output_type": "stream",
     "text": [
      "<class 'pandas.core.frame.DataFrame'>\n",
      "RangeIndex: 195 entries, 0 to 194\n",
      "Data columns (total 5 columns):\n",
      " #   Column            Non-Null Count  Dtype \n",
      "---  ------            --------------  ----- \n",
      " 0   #                 195 non-null    int64 \n",
      " 1   Country           195 non-null    object\n",
      " 2   Population(2020)  195 non-null    int64 \n",
      " 3   Land Area (Km²)   195 non-null    int64 \n",
      " 4   Density(P/Km²)    195 non-null    int64 \n",
      "dtypes: int64(4), object(1)\n",
      "memory usage: 7.7+ KB\n",
      "None\n"
     ]
    },
    {
     "data": {
      "text/html": [
       "<div>\n",
       "<style scoped>\n",
       "    .dataframe tbody tr th:only-of-type {\n",
       "        vertical-align: middle;\n",
       "    }\n",
       "\n",
       "    .dataframe tbody tr th {\n",
       "        vertical-align: top;\n",
       "    }\n",
       "\n",
       "    .dataframe thead th {\n",
       "        text-align: right;\n",
       "    }\n",
       "</style>\n",
       "<table border=\"1\" class=\"dataframe\">\n",
       "  <thead>\n",
       "    <tr style=\"text-align: right;\">\n",
       "      <th></th>\n",
       "      <th>#</th>\n",
       "      <th>Country</th>\n",
       "      <th>Population(2020)</th>\n",
       "      <th>Land Area (Km²)</th>\n",
       "      <th>Density(P/Km²)</th>\n",
       "    </tr>\n",
       "  </thead>\n",
       "  <tbody>\n",
       "    <tr>\n",
       "      <th>0</th>\n",
       "      <td>1</td>\n",
       "      <td>Afghanistan</td>\n",
       "      <td>38928346</td>\n",
       "      <td>652860</td>\n",
       "      <td>60</td>\n",
       "    </tr>\n",
       "    <tr>\n",
       "      <th>1</th>\n",
       "      <td>2</td>\n",
       "      <td>Albania</td>\n",
       "      <td>2877797</td>\n",
       "      <td>27400</td>\n",
       "      <td>105</td>\n",
       "    </tr>\n",
       "    <tr>\n",
       "      <th>2</th>\n",
       "      <td>3</td>\n",
       "      <td>Algeria</td>\n",
       "      <td>43851044</td>\n",
       "      <td>2381740</td>\n",
       "      <td>18</td>\n",
       "    </tr>\n",
       "    <tr>\n",
       "      <th>3</th>\n",
       "      <td>4</td>\n",
       "      <td>Andorra</td>\n",
       "      <td>77265</td>\n",
       "      <td>470</td>\n",
       "      <td>164</td>\n",
       "    </tr>\n",
       "    <tr>\n",
       "      <th>4</th>\n",
       "      <td>5</td>\n",
       "      <td>Angola</td>\n",
       "      <td>32866272</td>\n",
       "      <td>1246700</td>\n",
       "      <td>26</td>\n",
       "    </tr>\n",
       "  </tbody>\n",
       "</table>\n",
       "</div>"
      ],
      "text/plain": [
       "   #      Country  Population(2020)  Land Area (Km²)  Density(P/Km²)\n",
       "0  1  Afghanistan          38928346           652860              60\n",
       "1  2      Albania           2877797            27400             105\n",
       "2  3      Algeria          43851044          2381740              18\n",
       "3  4      Andorra             77265              470             164\n",
       "4  5       Angola          32866272          1246700              26"
      ]
     },
     "execution_count": 7,
     "metadata": {},
     "output_type": "execute_result"
    }
   ],
   "source": [
    "import requests\n",
    "\n",
    "html_page_text = requests.get('http://www.worldometers.info/geography/alphabetical-list-of-countries/');\n",
    "c = pd.read_html(html_page_text.text);\n",
    "\n",
    "\n",
    "panstwa = c[0]\n",
    "print(panstwa.info())\n",
    "panstwa.head()"
   ]
  },
  {
   "cell_type": "markdown",
   "metadata": {},
   "source": [
    "## 2. Dostęp do danych"
   ]
  },
  {
   "cell_type": "markdown",
   "metadata": {},
   "source": [
    "Liczba obiektów i atrybutów"
   ]
  },
  {
   "cell_type": "code",
   "execution_count": 9,
   "metadata": {},
   "outputs": [
    {
     "name": "stdout",
     "output_type": "stream",
     "text": [
      "indeks RangeIndex(start=0, stop=195, step=1)\n",
      "panstw: 195 \n",
      "atrybutów: 5\n"
     ]
    }
   ],
   "source": [
    "print(\"indeks\" ,panstwa.index)\n",
    "ile_panstw = panstwa.count(0)\n",
    "ile_atrybutow = panstwa.count(1)\n",
    "print(\"panstw:\", min(ile_panstw), \"\\natrybutów:\", min(ile_atrybutow))\n",
    "# co daje użycie funkcji 'min' powyżej ?\n",
    "# co będzie jak ją pominiemy ?\n",
    "#  print(\"panstw:\\n\", ile_panstw, \", atrybutów:\\n\", ile_atrybutow)"
   ]
  },
  {
   "cell_type": "markdown",
   "metadata": {},
   "source": [
    "Pojedynczy atrybut"
   ]
  },
  {
   "cell_type": "code",
   "execution_count": 10,
   "metadata": {},
   "outputs": [
    {
     "data": {
      "text/plain": [
       "0            Afghanistan\n",
       "1                Albania\n",
       "2                Algeria\n",
       "3                Andorra\n",
       "4                 Angola\n",
       "5    Antigua and Barbuda\n",
       "6              Argentina\n",
       "7                Armenia\n",
       "8              Australia\n",
       "9                Austria\n",
       "Name: Country, dtype: object"
      ]
     },
     "execution_count": 10,
     "metadata": {},
     "output_type": "execute_result"
    }
   ],
   "source": [
    "panstwa['Country'].head(10)"
   ]
  },
  {
   "cell_type": "markdown",
   "metadata": {},
   "source": [
    "Zakres obiektów"
   ]
  },
  {
   "cell_type": "code",
   "execution_count": 11,
   "metadata": {},
   "outputs": [
    {
     "data": {
      "text/html": [
       "<div>\n",
       "<style scoped>\n",
       "    .dataframe tbody tr th:only-of-type {\n",
       "        vertical-align: middle;\n",
       "    }\n",
       "\n",
       "    .dataframe tbody tr th {\n",
       "        vertical-align: top;\n",
       "    }\n",
       "\n",
       "    .dataframe thead th {\n",
       "        text-align: right;\n",
       "    }\n",
       "</style>\n",
       "<table border=\"1\" class=\"dataframe\">\n",
       "  <thead>\n",
       "    <tr style=\"text-align: right;\">\n",
       "      <th></th>\n",
       "      <th>#</th>\n",
       "      <th>Country</th>\n",
       "      <th>Population(2020)</th>\n",
       "      <th>Land Area (Km²)</th>\n",
       "      <th>Density(P/Km²)</th>\n",
       "    </tr>\n",
       "  </thead>\n",
       "  <tbody>\n",
       "    <tr>\n",
       "      <th>10</th>\n",
       "      <td>11</td>\n",
       "      <td>Azerbaijan</td>\n",
       "      <td>10139177</td>\n",
       "      <td>82658</td>\n",
       "      <td>123</td>\n",
       "    </tr>\n",
       "    <tr>\n",
       "      <th>11</th>\n",
       "      <td>12</td>\n",
       "      <td>Bahamas</td>\n",
       "      <td>393244</td>\n",
       "      <td>10010</td>\n",
       "      <td>39</td>\n",
       "    </tr>\n",
       "    <tr>\n",
       "      <th>12</th>\n",
       "      <td>13</td>\n",
       "      <td>Bahrain</td>\n",
       "      <td>1701575</td>\n",
       "      <td>760</td>\n",
       "      <td>2239</td>\n",
       "    </tr>\n",
       "    <tr>\n",
       "      <th>13</th>\n",
       "      <td>14</td>\n",
       "      <td>Bangladesh</td>\n",
       "      <td>164689383</td>\n",
       "      <td>130170</td>\n",
       "      <td>1265</td>\n",
       "    </tr>\n",
       "    <tr>\n",
       "      <th>14</th>\n",
       "      <td>15</td>\n",
       "      <td>Barbados</td>\n",
       "      <td>287375</td>\n",
       "      <td>430</td>\n",
       "      <td>668</td>\n",
       "    </tr>\n",
       "  </tbody>\n",
       "</table>\n",
       "</div>"
      ],
      "text/plain": [
       "     #     Country  Population(2020)  Land Area (Km²)  Density(P/Km²)\n",
       "10  11  Azerbaijan          10139177            82658             123\n",
       "11  12     Bahamas            393244            10010              39\n",
       "12  13     Bahrain           1701575              760            2239\n",
       "13  14  Bangladesh         164689383           130170            1265\n",
       "14  15    Barbados            287375              430             668"
      ]
     },
     "execution_count": 11,
     "metadata": {},
     "output_type": "execute_result"
    }
   ],
   "source": [
    "panstwa[10:15]"
   ]
  },
  {
   "cell_type": "markdown",
   "metadata": {},
   "source": [
    "Wyszukiwanie po wartości atrybutu"
   ]
  },
  {
   "cell_type": "code",
   "execution_count": 12,
   "metadata": {},
   "outputs": [
    {
     "data": {
      "text/html": [
       "<div>\n",
       "<style scoped>\n",
       "    .dataframe tbody tr th:only-of-type {\n",
       "        vertical-align: middle;\n",
       "    }\n",
       "\n",
       "    .dataframe tbody tr th {\n",
       "        vertical-align: top;\n",
       "    }\n",
       "\n",
       "    .dataframe thead th {\n",
       "        text-align: right;\n",
       "    }\n",
       "</style>\n",
       "<table border=\"1\" class=\"dataframe\">\n",
       "  <thead>\n",
       "    <tr style=\"text-align: right;\">\n",
       "      <th></th>\n",
       "      <th>#</th>\n",
       "      <th>Country</th>\n",
       "      <th>Population(2020)</th>\n",
       "      <th>Land Area (Km²)</th>\n",
       "      <th>Density(P/Km²)</th>\n",
       "    </tr>\n",
       "  </thead>\n",
       "  <tbody>\n",
       "    <tr>\n",
       "      <th>139</th>\n",
       "      <td>140</td>\n",
       "      <td>Poland</td>\n",
       "      <td>37846611</td>\n",
       "      <td>306230</td>\n",
       "      <td>124</td>\n",
       "    </tr>\n",
       "  </tbody>\n",
       "</table>\n",
       "</div>"
      ],
      "text/plain": [
       "       # Country  Population(2020)  Land Area (Km²)  Density(P/Km²)\n",
       "139  140  Poland          37846611           306230             124"
      ]
     },
     "execution_count": 12,
     "metadata": {},
     "output_type": "execute_result"
    }
   ],
   "source": [
    "panstwa[panstwa['Country']=='Poland']"
   ]
  },
  {
   "cell_type": "markdown",
   "metadata": {},
   "source": [
    "Wybrane państwa i atrybuty"
   ]
  },
  {
   "cell_type": "code",
   "execution_count": 13,
   "metadata": {},
   "outputs": [
    {
     "data": {
      "text/html": [
       "<div>\n",
       "<style scoped>\n",
       "    .dataframe tbody tr th:only-of-type {\n",
       "        vertical-align: middle;\n",
       "    }\n",
       "\n",
       "    .dataframe tbody tr th {\n",
       "        vertical-align: top;\n",
       "    }\n",
       "\n",
       "    .dataframe thead th {\n",
       "        text-align: right;\n",
       "    }\n",
       "</style>\n",
       "<table border=\"1\" class=\"dataframe\">\n",
       "  <thead>\n",
       "    <tr style=\"text-align: right;\">\n",
       "      <th></th>\n",
       "      <th>Country</th>\n",
       "      <th>Land Area (Km²)</th>\n",
       "    </tr>\n",
       "  </thead>\n",
       "  <tbody>\n",
       "    <tr>\n",
       "      <th>135</th>\n",
       "      <td>Papua New Guinea</td>\n",
       "      <td>452860</td>\n",
       "    </tr>\n",
       "    <tr>\n",
       "      <th>136</th>\n",
       "      <td>Paraguay</td>\n",
       "      <td>397300</td>\n",
       "    </tr>\n",
       "    <tr>\n",
       "      <th>137</th>\n",
       "      <td>Peru</td>\n",
       "      <td>1280000</td>\n",
       "    </tr>\n",
       "    <tr>\n",
       "      <th>138</th>\n",
       "      <td>Philippines</td>\n",
       "      <td>298170</td>\n",
       "    </tr>\n",
       "    <tr>\n",
       "      <th>139</th>\n",
       "      <td>Poland</td>\n",
       "      <td>306230</td>\n",
       "    </tr>\n",
       "    <tr>\n",
       "      <th>140</th>\n",
       "      <td>Portugal</td>\n",
       "      <td>91590</td>\n",
       "    </tr>\n",
       "    <tr>\n",
       "      <th>141</th>\n",
       "      <td>Qatar</td>\n",
       "      <td>11610</td>\n",
       "    </tr>\n",
       "    <tr>\n",
       "      <th>142</th>\n",
       "      <td>Romania</td>\n",
       "      <td>230170</td>\n",
       "    </tr>\n",
       "    <tr>\n",
       "      <th>143</th>\n",
       "      <td>Russia</td>\n",
       "      <td>16376870</td>\n",
       "    </tr>\n",
       "    <tr>\n",
       "      <th>144</th>\n",
       "      <td>Rwanda</td>\n",
       "      <td>24670</td>\n",
       "    </tr>\n",
       "  </tbody>\n",
       "</table>\n",
       "</div>"
      ],
      "text/plain": [
       "              Country  Land Area (Km²)\n",
       "135  Papua New Guinea           452860\n",
       "136          Paraguay           397300\n",
       "137              Peru          1280000\n",
       "138       Philippines           298170\n",
       "139            Poland           306230\n",
       "140          Portugal            91590\n",
       "141             Qatar            11610\n",
       "142           Romania           230170\n",
       "143            Russia         16376870\n",
       "144            Rwanda            24670"
      ]
     },
     "execution_count": 13,
     "metadata": {},
     "output_type": "execute_result"
    }
   ],
   "source": [
    "panstwa.iloc[135:145,[1, 3]]"
   ]
  },
  {
   "cell_type": "markdown",
   "metadata": {},
   "source": [
    "Największe państwa świata"
   ]
  },
  {
   "cell_type": "code",
   "execution_count": 14,
   "metadata": {},
   "outputs": [
    {
     "data": {
      "text/plain": [
       "0      False\n",
       "1      False\n",
       "2      False\n",
       "3      False\n",
       "4      False\n",
       "       ...  \n",
       "190    False\n",
       "191    False\n",
       "192    False\n",
       "193    False\n",
       "194    False\n",
       "Name: Land Area (Km²), Length: 195, dtype: bool"
      ]
     },
     "execution_count": 14,
     "metadata": {},
     "output_type": "execute_result"
    }
   ],
   "source": [
    "panstwa.iloc[:,3]> 5000000"
   ]
  },
  {
   "cell_type": "code",
   "execution_count": 15,
   "metadata": {},
   "outputs": [
    {
     "data": {
      "text/html": [
       "<div>\n",
       "<style scoped>\n",
       "    .dataframe tbody tr th:only-of-type {\n",
       "        vertical-align: middle;\n",
       "    }\n",
       "\n",
       "    .dataframe tbody tr th {\n",
       "        vertical-align: top;\n",
       "    }\n",
       "\n",
       "    .dataframe thead th {\n",
       "        text-align: right;\n",
       "    }\n",
       "</style>\n",
       "<table border=\"1\" class=\"dataframe\">\n",
       "  <thead>\n",
       "    <tr style=\"text-align: right;\">\n",
       "      <th></th>\n",
       "      <th>#</th>\n",
       "      <th>Country</th>\n",
       "      <th>Population(2020)</th>\n",
       "      <th>Land Area (Km²)</th>\n",
       "      <th>Density(P/Km²)</th>\n",
       "    </tr>\n",
       "  </thead>\n",
       "  <tbody>\n",
       "    <tr>\n",
       "      <th>8</th>\n",
       "      <td>9</td>\n",
       "      <td>Australia</td>\n",
       "      <td>25499884</td>\n",
       "      <td>7682300</td>\n",
       "      <td>3</td>\n",
       "    </tr>\n",
       "    <tr>\n",
       "      <th>23</th>\n",
       "      <td>24</td>\n",
       "      <td>Brazil</td>\n",
       "      <td>212559417</td>\n",
       "      <td>8358140</td>\n",
       "      <td>25</td>\n",
       "    </tr>\n",
       "    <tr>\n",
       "      <th>32</th>\n",
       "      <td>33</td>\n",
       "      <td>Canada</td>\n",
       "      <td>37742154</td>\n",
       "      <td>9093510</td>\n",
       "      <td>4</td>\n",
       "    </tr>\n",
       "    <tr>\n",
       "      <th>36</th>\n",
       "      <td>37</td>\n",
       "      <td>China</td>\n",
       "      <td>1439323776</td>\n",
       "      <td>9388211</td>\n",
       "      <td>153</td>\n",
       "    </tr>\n",
       "    <tr>\n",
       "      <th>143</th>\n",
       "      <td>144</td>\n",
       "      <td>Russia</td>\n",
       "      <td>145934462</td>\n",
       "      <td>16376870</td>\n",
       "      <td>9</td>\n",
       "    </tr>\n",
       "    <tr>\n",
       "      <th>186</th>\n",
       "      <td>187</td>\n",
       "      <td>United States of America</td>\n",
       "      <td>331002651</td>\n",
       "      <td>9147420</td>\n",
       "      <td>36</td>\n",
       "    </tr>\n",
       "  </tbody>\n",
       "</table>\n",
       "</div>"
      ],
      "text/plain": [
       "       #                   Country  Population(2020)  Land Area (Km²)  \\\n",
       "8      9                 Australia          25499884          7682300   \n",
       "23    24                    Brazil         212559417          8358140   \n",
       "32    33                    Canada          37742154          9093510   \n",
       "36    37                     China        1439323776          9388211   \n",
       "143  144                    Russia         145934462         16376870   \n",
       "186  187  United States of America         331002651          9147420   \n",
       "\n",
       "     Density(P/Km²)  \n",
       "8                 3  \n",
       "23               25  \n",
       "32                4  \n",
       "36              153  \n",
       "143               9  \n",
       "186              36  "
      ]
     },
     "execution_count": 15,
     "metadata": {},
     "output_type": "execute_result"
    }
   ],
   "source": [
    "panstwa[panstwa.iloc[:,3]> 5000000]"
   ]
  },
  {
   "cell_type": "markdown",
   "metadata": {},
   "source": [
    "Państwa o zbliżonej powierzchni do Polski"
   ]
  },
  {
   "cell_type": "code",
   "execution_count": 16,
   "metadata": {},
   "outputs": [
    {
     "data": {
      "text/html": [
       "<div>\n",
       "<style scoped>\n",
       "    .dataframe tbody tr th:only-of-type {\n",
       "        vertical-align: middle;\n",
       "    }\n",
       "\n",
       "    .dataframe tbody tr th {\n",
       "        vertical-align: top;\n",
       "    }\n",
       "\n",
       "    .dataframe thead th {\n",
       "        text-align: right;\n",
       "    }\n",
       "</style>\n",
       "<table border=\"1\" class=\"dataframe\">\n",
       "  <thead>\n",
       "    <tr style=\"text-align: right;\">\n",
       "      <th></th>\n",
       "      <th>#</th>\n",
       "      <th>Country</th>\n",
       "      <th>Population(2020)</th>\n",
       "      <th>Land Area (Km²)</th>\n",
       "      <th>Density(P/Km²)</th>\n",
       "    </tr>\n",
       "  </thead>\n",
       "  <tbody>\n",
       "    <tr>\n",
       "      <th>26</th>\n",
       "      <td>27</td>\n",
       "      <td>Burkina Faso</td>\n",
       "      <td>20903273</td>\n",
       "      <td>273600</td>\n",
       "      <td>76</td>\n",
       "    </tr>\n",
       "    <tr>\n",
       "      <th>28</th>\n",
       "      <td>29</td>\n",
       "      <td>Côte d'Ivoire</td>\n",
       "      <td>26378274</td>\n",
       "      <td>318000</td>\n",
       "      <td>83</td>\n",
       "    </tr>\n",
       "    <tr>\n",
       "      <th>39</th>\n",
       "      <td>40</td>\n",
       "      <td>Congo (Congo-Brazzaville)</td>\n",
       "      <td>5518087</td>\n",
       "      <td>341500</td>\n",
       "      <td>16</td>\n",
       "    </tr>\n",
       "    <tr>\n",
       "      <th>59</th>\n",
       "      <td>60</td>\n",
       "      <td>Finland</td>\n",
       "      <td>5540720</td>\n",
       "      <td>303890</td>\n",
       "      <td>18</td>\n",
       "    </tr>\n",
       "    <tr>\n",
       "      <th>61</th>\n",
       "      <td>62</td>\n",
       "      <td>Gabon</td>\n",
       "      <td>2225734</td>\n",
       "      <td>257670</td>\n",
       "      <td>9</td>\n",
       "    </tr>\n",
       "    <tr>\n",
       "      <th>64</th>\n",
       "      <td>65</td>\n",
       "      <td>Germany</td>\n",
       "      <td>83783942</td>\n",
       "      <td>348560</td>\n",
       "      <td>240</td>\n",
       "    </tr>\n",
       "    <tr>\n",
       "      <th>83</th>\n",
       "      <td>84</td>\n",
       "      <td>Italy</td>\n",
       "      <td>60461826</td>\n",
       "      <td>294140</td>\n",
       "      <td>206</td>\n",
       "    </tr>\n",
       "    <tr>\n",
       "      <th>103</th>\n",
       "      <td>104</td>\n",
       "      <td>Malaysia</td>\n",
       "      <td>32365999</td>\n",
       "      <td>328550</td>\n",
       "      <td>99</td>\n",
       "    </tr>\n",
       "    <tr>\n",
       "      <th>123</th>\n",
       "      <td>124</td>\n",
       "      <td>New Zealand</td>\n",
       "      <td>4822233</td>\n",
       "      <td>263310</td>\n",
       "      <td>18</td>\n",
       "    </tr>\n",
       "    <tr>\n",
       "      <th>130</th>\n",
       "      <td>131</td>\n",
       "      <td>Oman</td>\n",
       "      <td>5106626</td>\n",
       "      <td>309500</td>\n",
       "      <td>16</td>\n",
       "    </tr>\n",
       "    <tr>\n",
       "      <th>138</th>\n",
       "      <td>139</td>\n",
       "      <td>Philippines</td>\n",
       "      <td>109581078</td>\n",
       "      <td>298170</td>\n",
       "      <td>368</td>\n",
       "    </tr>\n",
       "    <tr>\n",
       "      <th>139</th>\n",
       "      <td>140</td>\n",
       "      <td>Poland</td>\n",
       "      <td>37846611</td>\n",
       "      <td>306230</td>\n",
       "      <td>124</td>\n",
       "    </tr>\n",
       "    <tr>\n",
       "      <th>191</th>\n",
       "      <td>192</td>\n",
       "      <td>Vietnam</td>\n",
       "      <td>97338579</td>\n",
       "      <td>310070</td>\n",
       "      <td>314</td>\n",
       "    </tr>\n",
       "  </tbody>\n",
       "</table>\n",
       "</div>"
      ],
      "text/plain": [
       "       #                    Country  Population(2020)  Land Area (Km²)  \\\n",
       "26    27               Burkina Faso          20903273           273600   \n",
       "28    29              Côte d'Ivoire          26378274           318000   \n",
       "39    40  Congo (Congo-Brazzaville)           5518087           341500   \n",
       "59    60                    Finland           5540720           303890   \n",
       "61    62                      Gabon           2225734           257670   \n",
       "64    65                    Germany          83783942           348560   \n",
       "83    84                      Italy          60461826           294140   \n",
       "103  104                   Malaysia          32365999           328550   \n",
       "123  124                New Zealand           4822233           263310   \n",
       "130  131                       Oman           5106626           309500   \n",
       "138  139                Philippines         109581078           298170   \n",
       "139  140                     Poland          37846611           306230   \n",
       "191  192                    Vietnam          97338579           310070   \n",
       "\n",
       "     Density(P/Km²)  \n",
       "26               76  \n",
       "28               83  \n",
       "39               16  \n",
       "59               18  \n",
       "61                9  \n",
       "64              240  \n",
       "83              206  \n",
       "103              99  \n",
       "123              18  \n",
       "130              16  \n",
       "138             368  \n",
       "139             124  \n",
       "191             314  "
      ]
     },
     "execution_count": 16,
     "metadata": {},
     "output_type": "execute_result"
    }
   ],
   "source": [
    "delta = 50000\n",
    "powPl = panstwa[panstwa['Country']=='Poland'].iloc[0,3]\n",
    "panstwa[(panstwa.iloc[:,3]> (powPl - delta)) & (panstwa.iloc[:,3]< (powPl + delta)) ]"
   ]
  },
  {
   "cell_type": "markdown",
   "metadata": {},
   "source": [
    "> **Zadanie 1**  Znajdź:\n",
    "* państwa o zbliżonej liczbie ludności do Polski\n",
    "* najbardziej podobne do Polski państwa świata pod względem zarówno powierzchni jak i liczby ludności"
   ]
  },
  {
   "cell_type": "code",
   "execution_count": 12,
   "metadata": {},
   "outputs": [
    {
     "data": {
      "text/html": [
       "<div>\n",
       "<style scoped>\n",
       "    .dataframe tbody tr th:only-of-type {\n",
       "        vertical-align: middle;\n",
       "    }\n",
       "\n",
       "    .dataframe tbody tr th {\n",
       "        vertical-align: top;\n",
       "    }\n",
       "\n",
       "    .dataframe thead th {\n",
       "        text-align: right;\n",
       "    }\n",
       "</style>\n",
       "<table border=\"1\" class=\"dataframe\">\n",
       "  <thead>\n",
       "    <tr style=\"text-align: right;\">\n",
       "      <th></th>\n",
       "      <th>#</th>\n",
       "      <th>Country</th>\n",
       "      <th>Population(2020)</th>\n",
       "      <th>Land Area (Km²)</th>\n",
       "      <th>Density(P/Km²)</th>\n",
       "    </tr>\n",
       "  </thead>\n",
       "  <tbody>\n",
       "    <tr>\n",
       "      <th>14</th>\n",
       "      <td>15</td>\n",
       "      <td>Barbados</td>\n",
       "      <td>287375</td>\n",
       "      <td>430</td>\n",
       "      <td>668</td>\n",
       "    </tr>\n",
       "    <tr>\n",
       "      <th>76</th>\n",
       "      <td>77</td>\n",
       "      <td>Iceland</td>\n",
       "      <td>341243</td>\n",
       "      <td>100250</td>\n",
       "      <td>3</td>\n",
       "    </tr>\n",
       "    <tr>\n",
       "      <th>189</th>\n",
       "      <td>190</td>\n",
       "      <td>Vanuatu</td>\n",
       "      <td>307145</td>\n",
       "      <td>12190</td>\n",
       "      <td>25</td>\n",
       "    </tr>\n",
       "  </tbody>\n",
       "</table>\n",
       "</div>"
      ],
      "text/plain": [
       "       #   Country  Population(2020)  Land Area (Km²)  Density(P/Km²)\n",
       "14    15  Barbados            287375              430             668\n",
       "76    77   Iceland            341243           100250               3\n",
       "189  190   Vanuatu            307145            12190              25"
      ]
     },
     "execution_count": 12,
     "metadata": {},
     "output_type": "execute_result"
    }
   ],
   "source": [
    "delta = 50000\n",
    "powPl = panstwa[panstwa['Country']=='Poland'].iloc[0,3]\n",
    "panstwa[(panstwa.iloc[:,2]> (powPl - delta)) & (panstwa.iloc[:,2]< (powPl + delta)) ]"
   ]
  },
  {
   "cell_type": "code",
   "execution_count": 13,
   "metadata": {},
   "outputs": [
    {
     "data": {
      "text/html": [
       "<div>\n",
       "<style scoped>\n",
       "    .dataframe tbody tr th:only-of-type {\n",
       "        vertical-align: middle;\n",
       "    }\n",
       "\n",
       "    .dataframe tbody tr th {\n",
       "        vertical-align: top;\n",
       "    }\n",
       "\n",
       "    .dataframe thead th {\n",
       "        text-align: right;\n",
       "    }\n",
       "</style>\n",
       "<table border=\"1\" class=\"dataframe\">\n",
       "  <thead>\n",
       "    <tr style=\"text-align: right;\">\n",
       "      <th></th>\n",
       "      <th>#</th>\n",
       "      <th>Country</th>\n",
       "      <th>Population(2020)</th>\n",
       "      <th>Land Area (Km²)</th>\n",
       "      <th>Density(P/Km²)</th>\n",
       "    </tr>\n",
       "  </thead>\n",
       "  <tbody>\n",
       "    <tr>\n",
       "      <th>61</th>\n",
       "      <td>62</td>\n",
       "      <td>Gabon</td>\n",
       "      <td>2225734</td>\n",
       "      <td>257670</td>\n",
       "      <td>9</td>\n",
       "    </tr>\n",
       "    <tr>\n",
       "      <th>123</th>\n",
       "      <td>124</td>\n",
       "      <td>New Zealand</td>\n",
       "      <td>4822233</td>\n",
       "      <td>263310</td>\n",
       "      <td>18</td>\n",
       "    </tr>\n",
       "    <tr>\n",
       "      <th>130</th>\n",
       "      <td>131</td>\n",
       "      <td>Oman</td>\n",
       "      <td>5106626</td>\n",
       "      <td>309500</td>\n",
       "      <td>16</td>\n",
       "    </tr>\n",
       "  </tbody>\n",
       "</table>\n",
       "</div>"
      ],
      "text/plain": [
       "       #      Country  Population(2020)  Land Area (Km²)  Density(P/Km²)\n",
       "61    62        Gabon           2225734           257670               9\n",
       "123  124  New Zealand           4822233           263310              18\n",
       "130  131         Oman           5106626           309500              16"
      ]
     },
     "execution_count": 13,
     "metadata": {},
     "output_type": "execute_result"
    }
   ],
   "source": [
    "delta_pow = 50000\n",
    "delta_pop = 5000000\n",
    "powPl = panstwa[panstwa['Country']=='Poland'].iloc[0,3]\n",
    "panstwa[(panstwa.iloc[:,2]> (powPl - delta_pop)) \n",
    "        & (panstwa.iloc[:,2]< (powPl + delta_pop)) \n",
    "        & (panstwa.iloc[:,3]> (powPl - delta_pow)) \n",
    "        & (panstwa.iloc[:,3]< (powPl + delta_pow)) ] "
   ]
  },
  {
   "cell_type": "markdown",
   "metadata": {},
   "source": [
    "## 3. Wizualizacja danych"
   ]
  },
  {
   "cell_type": "markdown",
   "metadata": {},
   "source": [
    "Histogramy"
   ]
  },
  {
   "cell_type": "code",
   "execution_count": 26,
   "metadata": {},
   "outputs": [
    {
     "name": "stdout",
     "output_type": "stream",
     "text": [
      "   atrybut1  atrybut2    klasa\n",
      "0        86        43  klasa 3\n",
      "1        79        50  klasa 3\n",
      "2        73        49  klasa 3\n",
      "3        69        49  klasa 3\n",
      "4        74        43  klasa 3\n"
     ]
    },
    {
     "name": "stderr",
     "output_type": "stream",
     "text": [
      "C:\\Users\\Jose\\AppData\\Local\\Programs\\Python\\Python38\\lib\\site-packages\\seaborn\\distributions.py:2551: FutureWarning: `distplot` is a deprecated function and will be removed in a future version. Please adapt your code to use either `displot` (a figure-level function with similar flexibility) or `histplot` (an axes-level function for histograms).\n",
      "  warnings.warn(msg, FutureWarning)\n",
      "C:\\Users\\Jose\\AppData\\Local\\Programs\\Python\\Python38\\lib\\site-packages\\seaborn\\distributions.py:2551: FutureWarning: `distplot` is a deprecated function and will be removed in a future version. Please adapt your code to use either `displot` (a figure-level function with similar flexibility) or `histplot` (an axes-level function for histograms).\n",
      "  warnings.warn(msg, FutureWarning)\n",
      "C:\\Users\\Jose\\AppData\\Local\\Programs\\Python\\Python38\\lib\\site-packages\\seaborn\\distributions.py:2551: FutureWarning: `distplot` is a deprecated function and will be removed in a future version. Please adapt your code to use either `displot` (a figure-level function with similar flexibility) or `histplot` (an axes-level function for histograms).\n",
      "  warnings.warn(msg, FutureWarning)\n"
     ]
    },
    {
     "data": {
      "image/png": "[encoded data removed]",
      "text/plain": [
       "<Figure size 640x400 with 1 Axes>"
      ]
     },
     "metadata": {
      "needs_background": "light"
     },
     "output_type": "display_data"
    }
   ],
   "source": [
    "print(d.head())\n",
    "atr = 'atrybut1'\n",
    "plt.figure(figsize=(8,5), dpi= 80)\n",
    "sns.distplot(d.loc[d.klasa == 'klasa 1',atr], label=\"Klasa 1\")\n",
    "sns.distplot(d.loc[d.klasa == 'klasa 2',atr], label=\"Klasa 2\")\n",
    "sns.distplot(d.loc[d.klasa == 'klasa 3',atr], label=\"Klasa 3\")\n",
    "plt.legend();"
   ]
  },
  {
   "cell_type": "code",
   "execution_count": 27,
   "metadata": {},
   "outputs": [
    {
     "name": "stdout",
     "output_type": "stream",
     "text": [
      "   atrybut1  atrybut2    klasa\n",
      "0        86        43  klasa 3\n",
      "1        79        50  klasa 3\n",
      "2        73        49  klasa 3\n",
      "3        69        49  klasa 3\n",
      "4        74        43  klasa 3\n"
     ]
    },
    {
     "name": "stderr",
     "output_type": "stream",
     "text": [
      "C:\\Users\\Jose\\AppData\\Local\\Programs\\Python\\Python38\\lib\\site-packages\\seaborn\\distributions.py:2551: FutureWarning: `distplot` is a deprecated function and will be removed in a future version. Please adapt your code to use either `displot` (a figure-level function with similar flexibility) or `histplot` (an axes-level function for histograms).\n",
      "  warnings.warn(msg, FutureWarning)\n",
      "C:\\Users\\Jose\\AppData\\Local\\Programs\\Python\\Python38\\lib\\site-packages\\seaborn\\distributions.py:2551: FutureWarning: `distplot` is a deprecated function and will be removed in a future version. Please adapt your code to use either `displot` (a figure-level function with similar flexibility) or `histplot` (an axes-level function for histograms).\n",
      "  warnings.warn(msg, FutureWarning)\n",
      "C:\\Users\\Jose\\AppData\\Local\\Programs\\Python\\Python38\\lib\\site-packages\\seaborn\\distributions.py:2551: FutureWarning: `distplot` is a deprecated function and will be removed in a future version. Please adapt your code to use either `displot` (a figure-level function with similar flexibility) or `histplot` (an axes-level function for histograms).\n",
      "  warnings.warn(msg, FutureWarning)\n"
     ]
    },
    {
     "data": {
      "image/png": "[encoded data removed]",
      "text/plain": [
       "<Figure size 640x400 with 1 Axes>"
      ]
     },
     "metadata": {
      "needs_background": "light"
     },
     "output_type": "display_data"
    }
   ],
   "source": [
    "print(d.head())\n",
    "atr = 'atrybut2'\n",
    "plt.figure(figsize=(8,5), dpi= 80)\n",
    "sns.distplot(d.loc[d.klasa == 'klasa 1',atr], label=\"Klasa 1\")\n",
    "sns.distplot(d.loc[d.klasa == 'klasa 2',atr], label=\"Klasa 2\")\n",
    "sns.distplot(d.loc[d.klasa == 'klasa 3',atr], label=\"Klasa 3\")\n",
    "plt.legend();"
   ]
  },
  {
   "cell_type": "markdown",
   "metadata": {},
   "source": [
    "Wykresy pudełkowe"
   ]
  },
  {
   "cell_type": "code",
   "execution_count": 19,
   "metadata": {},
   "outputs": [
    {
     "name": "stdout",
     "output_type": "stream",
     "text": [
      "   atrybut1  atrybut2    klasa\n",
      "0        86        43  klasa 3\n",
      "1        79        50  klasa 3\n",
      "2        73        49  klasa 3\n",
      "3        69        49  klasa 3\n",
      "4        74        43  klasa 3\n"
     ]
    },
    {
     "data": {
      "text/plain": [
       "<AxesSubplot:xlabel='klasa', ylabel='atrybut2'>"
      ]
     },
     "execution_count": 19,
     "metadata": {},
     "output_type": "execute_result"
    },
    {
     "data": {
      "image/png": "[encoded data removed]",
      "text/plain": [
       "<Figure size 400x640 with 3 Axes>"
      ]
     },
     "metadata": {
      "needs_background": "light"
     },
     "output_type": "display_data"
    }
   ],
   "source": [
    "print(d.head())\n",
    "plt.figure(figsize=(5,8), dpi= 80)\n",
    "plt.subplot(3,1,1)\n",
    "sns.boxplot(data=d)\n",
    "plt.subplot(3,1,2)\n",
    "sns.boxplot(x=\"klasa\", y=\"atrybut1\", data=d)\n",
    "plt.subplot(3,1,3)\n",
    "sns.boxplot(x=\"klasa\", y=\"atrybut2\", data=d)"
   ]
  },
  {
   "cell_type": "markdown",
   "metadata": {},
   "source": [
    "Wykresy skrzypcowe"
   ]
  },
  {
   "cell_type": "code",
   "execution_count": 20,
   "metadata": {},
   "outputs": [
    {
     "data": {
      "text/plain": [
       "<AxesSubplot:xlabel='klasa', ylabel='atrybut2'>"
      ]
     },
     "execution_count": 20,
     "metadata": {},
     "output_type": "execute_result"
    },
    {
     "data": {
      "image/png": "[encoded data removed]",
      "text/plain": [
       "<Figure size 400x640 with 3 Axes>"
      ]
     },
     "metadata": {
      "needs_background": "light"
     },
     "output_type": "display_data"
    }
   ],
   "source": [
    "plt.figure(figsize=(5,8), dpi= 80)\n",
    "plt.subplot(3,1,1)\n",
    "sns.violinplot(data=d)\n",
    "plt.subplot(3,1,2)\n",
    "sns.violinplot(x=\"klasa\", y=\"atrybut1\", data=d)\n",
    "plt.subplot(3,1,3)\n",
    "sns.violinplot(x=\"klasa\", y=\"atrybut2\", data=d)"
   ]
  },
  {
   "cell_type": "markdown",
   "metadata": {},
   "source": [
    "Wykres punktowy bez podziału na klasy"
   ]
  },
  {
   "cell_type": "code",
   "execution_count": 21,
   "metadata": {},
   "outputs": [
    {
     "name": "stdout",
     "output_type": "stream",
     "text": [
      "   atrybut1  atrybut2    klasa\n",
      "0        86        43  klasa 3\n",
      "1        79        50  klasa 3\n",
      "2        73        49  klasa 3\n",
      "3        69        49  klasa 3\n",
      "4        74        43  klasa 3\n",
      "    atrybut1  atrybut2    klasa\n",
      "75        14        22  klasa 2\n",
      "76         7        28  klasa 2\n",
      "77         8        22  klasa 2\n",
      "78         6        16  klasa 2\n",
      "79         4        22  klasa 2\n"
     ]
    },
    {
     "data": {
      "text/plain": [
       "<seaborn.axisgrid.FacetGrid at 0x2c9e13168b0>"
      ]
     },
     "execution_count": 21,
     "metadata": {},
     "output_type": "execute_result"
    },
    {
     "data": {
      "image/png": "[encoded data removed]",
      "text/plain": [
       "<Figure size 360x360 with 1 Axes>"
      ]
     },
     "metadata": {
      "needs_background": "light"
     },
     "output_type": "display_data"
    }
   ],
   "source": [
    "# wczytanie danych\n",
    "print(d.head())\n",
    "print(d.tail())\n",
    "sns.lmplot( x=\"atrybut1\", y=\"atrybut2\", data=d, fit_reg=False, legend=False)"
   ]
  },
  {
   "cell_type": "markdown",
   "metadata": {},
   "source": [
    "Wykres punktowy z podziałem na klasy"
   ]
  },
  {
   "cell_type": "code",
   "execution_count": 22,
   "metadata": {},
   "outputs": [
    {
     "data": {
      "text/plain": [
       "<seaborn.axisgrid.FacetGrid at 0x2c9e11b6850>"
      ]
     },
     "execution_count": 22,
     "metadata": {},
     "output_type": "execute_result"
    },
    {
     "data": {
      "image/png": "[encoded data removed]",
      "text/plain": [
       "<Figure size 360x360 with 1 Axes>"
      ]
     },
     "metadata": {
      "needs_background": "light"
     },
     "output_type": "display_data"
    }
   ],
   "source": [
    "sns.lmplot( x=\"atrybut1\", y=\"atrybut2\", data=d, fit_reg=False, hue='klasa', legend=False)"
   ]
  },
  {
   "cell_type": "markdown",
   "metadata": {},
   "source": [
    "Macierz wykresów punktowych bez podziału na klasy"
   ]
  },
  {
   "cell_type": "code",
   "execution_count": 23,
   "metadata": {},
   "outputs": [
    {
     "data": {
      "image/png": "[encoded data removed]",
      "text/plain": [
       "<Figure size 720x720 with 20 Axes>"
      ]
     },
     "metadata": {
      "needs_background": "light"
     },
     "output_type": "display_data"
    }
   ],
   "source": [
    "sns.pairplot(iris, kind=\"scatter\")\n",
    "plt.show()"
   ]
  },
  {
   "cell_type": "markdown",
   "metadata": {},
   "source": [
    "Macierz wykresów puntkowych z podziałem na klasy"
   ]
  },
  {
   "cell_type": "code",
   "execution_count": 24,
   "metadata": {},
   "outputs": [
    {
     "data": {
      "image/png": "[encoded data removed]",
      "text/plain": [
       "<Figure size 804.75x720 with 20 Axes>"
      ]
     },
     "metadata": {
      "needs_background": "light"
     },
     "output_type": "display_data"
    }
   ],
   "source": [
    "sns.pairplot(iris, kind=\"scatter\", hue = \"species\")\n",
    "plt.show()"
   ]
  },
  {
   "cell_type": "markdown",
   "metadata": {},
   "source": [
    "## 4. Miary danych - statystyki opisowe"
   ]
  },
  {
   "cell_type": "markdown",
   "metadata": {},
   "source": [
    "Podstawowe miary służące do opisu pojedynczego atrybutu to miary tendencji centralnej i miary rorzutu. Miary tendencji centralnej wskazują na \"środek\" zbioru danych. Do podstawowych miar należą: średnia arytmetyczna, mediana i moda. Inne, przykładowe miary to średnie geometryczna, harmoniczna, ważona. "
   ]
  },
  {
   "cell_type": "markdown",
   "metadata": {},
   "source": [
    "Podstawowe miary badanych zbiorów"
   ]
  },
  {
   "cell_type": "code",
   "execution_count": 25,
   "metadata": {},
   "outputs": [
    {
     "name": "stdout",
     "output_type": "stream",
     "text": [
      "<class 'pandas.core.frame.DataFrame'>\n",
      "RangeIndex: 80 entries, 0 to 79\n",
      "Data columns (total 3 columns):\n",
      " #   Column    Non-Null Count  Dtype \n",
      "---  ------    --------------  ----- \n",
      " 0   atrybut1  80 non-null     int64 \n",
      " 1   atrybut2  80 non-null     int64 \n",
      " 2   klasa     80 non-null     object\n",
      "dtypes: int64(2), object(1)\n",
      "memory usage: 2.0+ KB\n",
      "None\n",
      "\n",
      "\n",
      "   atrybut1  atrybut2    klasa\n",
      "0        86        43  klasa 3\n",
      "1        79        50  klasa 3\n",
      "2        73        49  klasa 3\n",
      "3        69        49  klasa 3\n",
      "4        74        43  klasa 3\n",
      "\n",
      "\n"
     ]
    },
    {
     "data": {
      "text/html": [
       "<div>\n",
       "<style scoped>\n",
       "    .dataframe tbody tr th:only-of-type {\n",
       "        vertical-align: middle;\n",
       "    }\n",
       "\n",
       "    .dataframe tbody tr th {\n",
       "        vertical-align: top;\n",
       "    }\n",
       "\n",
       "    .dataframe thead th {\n",
       "        text-align: right;\n",
       "    }\n",
       "</style>\n",
       "<table border=\"1\" class=\"dataframe\">\n",
       "  <thead>\n",
       "    <tr style=\"text-align: right;\">\n",
       "      <th></th>\n",
       "      <th>atrybut1</th>\n",
       "      <th>atrybut2</th>\n",
       "    </tr>\n",
       "  </thead>\n",
       "  <tbody>\n",
       "    <tr>\n",
       "      <th>count</th>\n",
       "      <td>80.000000</td>\n",
       "      <td>80.000000</td>\n",
       "    </tr>\n",
       "    <tr>\n",
       "      <th>mean</th>\n",
       "      <td>49.012500</td>\n",
       "      <td>41.275000</td>\n",
       "    </tr>\n",
       "    <tr>\n",
       "      <th>std</th>\n",
       "      <td>26.009976</td>\n",
       "      <td>23.377461</td>\n",
       "    </tr>\n",
       "    <tr>\n",
       "      <th>min</th>\n",
       "      <td>4.000000</td>\n",
       "      <td>7.000000</td>\n",
       "    </tr>\n",
       "    <tr>\n",
       "      <th>25%</th>\n",
       "      <td>29.750000</td>\n",
       "      <td>22.000000</td>\n",
       "    </tr>\n",
       "    <tr>\n",
       "      <th>50%</th>\n",
       "      <td>47.500000</td>\n",
       "      <td>34.500000</td>\n",
       "    </tr>\n",
       "    <tr>\n",
       "      <th>75%</th>\n",
       "      <td>73.000000</td>\n",
       "      <td>64.250000</td>\n",
       "    </tr>\n",
       "    <tr>\n",
       "      <th>max</th>\n",
       "      <td>87.000000</td>\n",
       "      <td>86.000000</td>\n",
       "    </tr>\n",
       "  </tbody>\n",
       "</table>\n",
       "</div>"
      ],
      "text/plain": [
       "        atrybut1   atrybut2\n",
       "count  80.000000  80.000000\n",
       "mean   49.012500  41.275000\n",
       "std    26.009976  23.377461\n",
       "min     4.000000   7.000000\n",
       "25%    29.750000  22.000000\n",
       "50%    47.500000  34.500000\n",
       "75%    73.000000  64.250000\n",
       "max    87.000000  86.000000"
      ]
     },
     "execution_count": 25,
     "metadata": {},
     "output_type": "execute_result"
    }
   ],
   "source": [
    "print(d.info())\n",
    "print('\\n')\n",
    "print(d.head())\n",
    "print('\\n')\n",
    "d.describe()"
   ]
  },
  {
   "cell_type": "markdown",
   "metadata": {},
   "source": [
    "Badanie pojedynczej klasy"
   ]
  },
  {
   "cell_type": "code",
   "execution_count": 26,
   "metadata": {},
   "outputs": [
    {
     "data": {
      "text/html": [
       "<div>\n",
       "<style scoped>\n",
       "    .dataframe tbody tr th:only-of-type {\n",
       "        vertical-align: middle;\n",
       "    }\n",
       "\n",
       "    .dataframe tbody tr th {\n",
       "        vertical-align: top;\n",
       "    }\n",
       "\n",
       "    .dataframe thead th {\n",
       "        text-align: right;\n",
       "    }\n",
       "</style>\n",
       "<table border=\"1\" class=\"dataframe\">\n",
       "  <thead>\n",
       "    <tr style=\"text-align: right;\">\n",
       "      <th></th>\n",
       "      <th>atrybut1</th>\n",
       "      <th>atrybut2</th>\n",
       "    </tr>\n",
       "  </thead>\n",
       "  <tbody>\n",
       "    <tr>\n",
       "      <th>count</th>\n",
       "      <td>24.000000</td>\n",
       "      <td>24.000000</td>\n",
       "    </tr>\n",
       "    <tr>\n",
       "      <th>mean</th>\n",
       "      <td>38.458333</td>\n",
       "      <td>73.250000</td>\n",
       "    </tr>\n",
       "    <tr>\n",
       "      <th>std</th>\n",
       "      <td>6.419936</td>\n",
       "      <td>7.531095</td>\n",
       "    </tr>\n",
       "    <tr>\n",
       "      <th>min</th>\n",
       "      <td>29.000000</td>\n",
       "      <td>62.000000</td>\n",
       "    </tr>\n",
       "    <tr>\n",
       "      <th>25%</th>\n",
       "      <td>32.750000</td>\n",
       "      <td>68.000000</td>\n",
       "    </tr>\n",
       "    <tr>\n",
       "      <th>50%</th>\n",
       "      <td>39.500000</td>\n",
       "      <td>72.000000</td>\n",
       "    </tr>\n",
       "    <tr>\n",
       "      <th>75%</th>\n",
       "      <td>44.000000</td>\n",
       "      <td>78.250000</td>\n",
       "    </tr>\n",
       "    <tr>\n",
       "      <th>max</th>\n",
       "      <td>48.000000</td>\n",
       "      <td>86.000000</td>\n",
       "    </tr>\n",
       "  </tbody>\n",
       "</table>\n",
       "</div>"
      ],
      "text/plain": [
       "        atrybut1   atrybut2\n",
       "count  24.000000  24.000000\n",
       "mean   38.458333  73.250000\n",
       "std     6.419936   7.531095\n",
       "min    29.000000  62.000000\n",
       "25%    32.750000  68.000000\n",
       "50%    39.500000  72.000000\n",
       "75%    44.000000  78.250000\n",
       "max    48.000000  86.000000"
      ]
     },
     "execution_count": 26,
     "metadata": {},
     "output_type": "execute_result"
    }
   ],
   "source": [
    "d[d['klasa'] == 'klasa 1'].describe()"
   ]
  },
  {
   "cell_type": "code",
   "execution_count": 27,
   "metadata": {},
   "outputs": [
    {
     "name": "stdout",
     "output_type": "stream",
     "text": [
      "<class 'pandas.core.frame.DataFrame'>\n",
      "RangeIndex: 150 entries, 0 to 149\n",
      "Data columns (total 5 columns):\n",
      " #   Column        Non-Null Count  Dtype  \n",
      "---  ------        --------------  -----  \n",
      " 0   sepal_length  150 non-null    float64\n",
      " 1   sepal_width   150 non-null    float64\n",
      " 2   petal_length  150 non-null    float64\n",
      " 3   petal_width   150 non-null    float64\n",
      " 4   species       150 non-null    object \n",
      "dtypes: float64(4), object(1)\n",
      "memory usage: 6.0+ KB\n",
      "None\n",
      "\n",
      "\n",
      "   sepal_length  sepal_width  petal_length  petal_width species\n",
      "0           5.1          3.5           1.4          0.2  setosa\n",
      "1           4.9          3.0           1.4          0.2  setosa\n",
      "2           4.7          3.2           1.3          0.2  setosa\n",
      "3           4.6          3.1           1.5          0.2  setosa\n",
      "4           5.0          3.6           1.4          0.2  setosa\n",
      "\n",
      "\n"
     ]
    },
    {
     "data": {
      "text/html": [
       "<div>\n",
       "<style scoped>\n",
       "    .dataframe tbody tr th:only-of-type {\n",
       "        vertical-align: middle;\n",
       "    }\n",
       "\n",
       "    .dataframe tbody tr th {\n",
       "        vertical-align: top;\n",
       "    }\n",
       "\n",
       "    .dataframe thead th {\n",
       "        text-align: right;\n",
       "    }\n",
       "</style>\n",
       "<table border=\"1\" class=\"dataframe\">\n",
       "  <thead>\n",
       "    <tr style=\"text-align: right;\">\n",
       "      <th></th>\n",
       "      <th>sepal_length</th>\n",
       "      <th>sepal_width</th>\n",
       "      <th>petal_length</th>\n",
       "      <th>petal_width</th>\n",
       "    </tr>\n",
       "  </thead>\n",
       "  <tbody>\n",
       "    <tr>\n",
       "      <th>count</th>\n",
       "      <td>150.000000</td>\n",
       "      <td>150.000000</td>\n",
       "      <td>150.000000</td>\n",
       "      <td>150.000000</td>\n",
       "    </tr>\n",
       "    <tr>\n",
       "      <th>mean</th>\n",
       "      <td>5.843333</td>\n",
       "      <td>3.057333</td>\n",
       "      <td>3.758000</td>\n",
       "      <td>1.199333</td>\n",
       "    </tr>\n",
       "    <tr>\n",
       "      <th>std</th>\n",
       "      <td>0.828066</td>\n",
       "      <td>0.435866</td>\n",
       "      <td>1.765298</td>\n",
       "      <td>0.762238</td>\n",
       "    </tr>\n",
       "    <tr>\n",
       "      <th>min</th>\n",
       "      <td>4.300000</td>\n",
       "      <td>2.000000</td>\n",
       "      <td>1.000000</td>\n",
       "      <td>0.100000</td>\n",
       "    </tr>\n",
       "    <tr>\n",
       "      <th>25%</th>\n",
       "      <td>5.100000</td>\n",
       "      <td>2.800000</td>\n",
       "      <td>1.600000</td>\n",
       "      <td>0.300000</td>\n",
       "    </tr>\n",
       "    <tr>\n",
       "      <th>50%</th>\n",
       "      <td>5.800000</td>\n",
       "      <td>3.000000</td>\n",
       "      <td>4.350000</td>\n",
       "      <td>1.300000</td>\n",
       "    </tr>\n",
       "    <tr>\n",
       "      <th>75%</th>\n",
       "      <td>6.400000</td>\n",
       "      <td>3.300000</td>\n",
       "      <td>5.100000</td>\n",
       "      <td>1.800000</td>\n",
       "    </tr>\n",
       "    <tr>\n",
       "      <th>max</th>\n",
       "      <td>7.900000</td>\n",
       "      <td>4.400000</td>\n",
       "      <td>6.900000</td>\n",
       "      <td>2.500000</td>\n",
       "    </tr>\n",
       "  </tbody>\n",
       "</table>\n",
       "</div>"
      ],
      "text/plain": [
       "       sepal_length  sepal_width  petal_length  petal_width\n",
       "count    150.000000   150.000000    150.000000   150.000000\n",
       "mean       5.843333     3.057333      3.758000     1.199333\n",
       "std        0.828066     0.435866      1.765298     0.762238\n",
       "min        4.300000     2.000000      1.000000     0.100000\n",
       "25%        5.100000     2.800000      1.600000     0.300000\n",
       "50%        5.800000     3.000000      4.350000     1.300000\n",
       "75%        6.400000     3.300000      5.100000     1.800000\n",
       "max        7.900000     4.400000      6.900000     2.500000"
      ]
     },
     "execution_count": 27,
     "metadata": {},
     "output_type": "execute_result"
    }
   ],
   "source": [
    "print(iris.info())\n",
    "print('\\n')\n",
    "print(iris.head())\n",
    "print('\\n')\n",
    "iris.describe()"
   ]
  },
  {
   "cell_type": "markdown",
   "metadata": {},
   "source": [
    "> **Zadanie 2** Skonfrontuj, dla obu powyższych zbiorów, podstawowe miary danych z wykresami: histogramem, wykresem pudełkowym i punktowym (macierzy wykresów punktowych), dla kompletnych zbiorów i dla poszczególnych klas w tych zbiorach. Zlokalizuj poszczególne miary na wykresach. Oceń łatwość lokalizacji poszczególnych miar na każdym rodzaju wykresu. Jakie wnioski dotyczące każdego ze zbiorów danych można wyciągnąć z powyższych obserwacji ?"
   ]
  },
  {
   "cell_type": "markdown",
   "metadata": {},
   "source": [
    "### Histogram\n",
    "Czytelnie przedsawia ogólny rozkład danych (położenie oraz rozposzenie danych). Wydaje się dobrym narzędziem podczas określenia ogólnego danych które nie przedstawiają podstawowe statystyki. Można również wstępnie stwierdzić czy rozkład przypomina rozkład normalny, czy jest jakaś skośność itp. Nie nadaje się do dokładnego odczytania takich wielkości jak średnia, odchylenie standardowe itp. Z histogramu można odczytać jedynie modę i ewentualnie wielkości skrajne (nie zawsze). Podczas analizy pod względem rozróżniania klas można ogólnie stwierdzić czy poszczeólne klasy \"nachodzą\" się na siebie.\n",
    "\n",
    "### Wykres pudełkowy\n",
    "Przydany podczas analizy danych pod względem statystycznym; czytelnie przestawia medianę, zakresy poszczególnych kwartyli oraz ewentualne punkty odstające. Nie można odczytać mody. Podczas analizy poszczególnych klas widać jaka jest zależność między odchyleniem standardowym poszczególnych klas a odległościami między ich medianami. Istotne może być określenie przedziału klasowego, w szczególności gdy mamy doczynienia z danymi cią\n",
    "\n",
    "### Wykres punktowy\n",
    "Pomaga ocenić wstępnie znalezienie skupień danych. Również można wstępnie ocenić czy zachodzi korelacja oraz czy jest dodatnia/ujemna między dwoma atrybutami. Przydanty podczas sprawdzania czy pewne obszary utworzone z kombinacja dwóch atrybutów mogą określać przynależność klasową. Wykres ten nieprzedstawia dokładnie, żadną z statystyk jaką jest średnia, mediana itp."
   ]
  },
  {
   "cell_type": "markdown",
   "metadata": {},
   "source": [
    "> **Zadanie 3** Oceń na podstawie miar oraz wykresów, jakie cechy w przypadku zbiorów `d` oraz `iris` decydują o przynależności obiektów do poszczególnych klas."
   ]
  },
  {
   "cell_type": "markdown",
   "metadata": {},
   "source": [
    "Na wykłdzie było wspomnaine, że wystarczy jeden zbiór. Wybieram zbiór `d`\n",
    "\n",
    "### Histogram\n",
    "Z wykresu można odczytać, że w drugim atrybucie punkty klasy 1-szej częściowo nachodzą na punkty klasy 2-ej. Pozostałe klasy nienachodzą się na siebie albo nachodzą na siebie w stopniu niewielkim (krańcami).\n",
    "\n",
    "### Wykres pudełkowy\n",
    "Rozpatrując zależności między atrybutami, można zauwazyć że dane mają zbliżone wartości punktów krańcowych. Jeśli chodzi o pierwsz, drugi oraz trzeci kwartl występuje przesunięcie o ok 10 między atrybutam. Atrybu 2 może zawierać skośność.\n",
    "W pierwszym atrybucie poszczególne klasy są separowalne. W drugim atrybucie klasa 3 od mediany do jednego krańca pokrywa się od krańca do Q1 klasy 2. Klasę 1 można odseparować od klasy 2 oraz 3. Można również odczytać kwartyle poszczególnych klas.\n",
    "\n",
    "### Wykres punktowy\n",
    "#### Bezpodziału na klasy\n",
    "Kombinacaj pierwszego oraz drugiego atrybutu przedstawia 3 łatwo separowalne skupiska danych.\n",
    "#### Z podziałem na klasy\n",
    "Skupiska te są poszczególnmi klasami."
   ]
  },
  {
   "cell_type": "markdown",
   "metadata": {},
   "source": [
    "> **Zadanie 4** Zastanów się, jakie wnioski odnoszące się do dystrybucji danych można wyciągnąć, analizując jednocześnie dwie miary tendencji centralnej - średnią i medianę. Wykonaj analizę wartości obu tych miar dla zbiorów `iris` oraz `panstwa`"
   ]
  },
  {
   "cell_type": "code",
   "execution_count": 30,
   "metadata": {},
   "outputs": [
    {
     "name": "stdout",
     "output_type": "stream",
     "text": [
      "<class 'pandas.core.frame.DataFrame'>\n",
      "RangeIndex: 195 entries, 0 to 194\n",
      "Data columns (total 5 columns):\n",
      " #   Column            Non-Null Count  Dtype \n",
      "---  ------            --------------  ----- \n",
      " 0   #                 195 non-null    int64 \n",
      " 1   Country           195 non-null    object\n",
      " 2   Population(2020)  195 non-null    int64 \n",
      " 3   Land Area (Km²)   195 non-null    int64 \n",
      " 4   Density(P/Km²)    195 non-null    int64 \n",
      "dtypes: int64(4), object(1)\n",
      "memory usage: 7.7+ KB\n",
      "None\n",
      "\n",
      "\n",
      "   #      Country  Population(2020)  Land Area (Km²)  Density(P/Km²)\n",
      "0  1  Afghanistan          38928346           652860              60\n",
      "1  2      Albania           2877797            27400             105\n",
      "2  3      Algeria          43851044          2381740              18\n",
      "3  4      Andorra             77265              470             164\n",
      "4  5       Angola          32866272          1246700              26\n",
      "\n",
      "\n"
     ]
    },
    {
     "data": {
      "text/html": [
       "<div>\n",
       "<style scoped>\n",
       "    .dataframe tbody tr th:only-of-type {\n",
       "        vertical-align: middle;\n",
       "    }\n",
       "\n",
       "    .dataframe tbody tr th {\n",
       "        vertical-align: top;\n",
       "    }\n",
       "\n",
       "    .dataframe thead th {\n",
       "        text-align: right;\n",
       "    }\n",
       "</style>\n",
       "<table border=\"1\" class=\"dataframe\">\n",
       "  <thead>\n",
       "    <tr style=\"text-align: right;\">\n",
       "      <th></th>\n",
       "      <th>#</th>\n",
       "      <th>Population(2020)</th>\n",
       "      <th>Land Area (Km²)</th>\n",
       "      <th>Density(P/Km²)</th>\n",
       "    </tr>\n",
       "  </thead>\n",
       "  <tbody>\n",
       "    <tr>\n",
       "      <th>count</th>\n",
       "      <td>195.000000</td>\n",
       "      <td>1.950000e+02</td>\n",
       "      <td>1.950000e+02</td>\n",
       "      <td>195.000000</td>\n",
       "    </tr>\n",
       "    <tr>\n",
       "      <th>mean</th>\n",
       "      <td>98.000000</td>\n",
       "      <td>3.976991e+07</td>\n",
       "      <td>6.627831e+05</td>\n",
       "      <td>353.584615</td>\n",
       "    </tr>\n",
       "    <tr>\n",
       "      <th>std</th>\n",
       "      <td>56.435804</td>\n",
       "      <td>1.475370e+08</td>\n",
       "      <td>1.834234e+06</td>\n",
       "      <td>1982.697443</td>\n",
       "    </tr>\n",
       "    <tr>\n",
       "      <th>min</th>\n",
       "      <td>1.000000</td>\n",
       "      <td>8.010000e+02</td>\n",
       "      <td>0.000000e+00</td>\n",
       "      <td>2.000000</td>\n",
       "    </tr>\n",
       "    <tr>\n",
       "      <th>25%</th>\n",
       "      <td>49.500000</td>\n",
       "      <td>2.023470e+06</td>\n",
       "      <td>2.299500e+04</td>\n",
       "      <td>35.500000</td>\n",
       "    </tr>\n",
       "    <tr>\n",
       "      <th>50%</th>\n",
       "      <td>98.000000</td>\n",
       "      <td>8.737371e+06</td>\n",
       "      <td>1.127600e+05</td>\n",
       "      <td>89.000000</td>\n",
       "    </tr>\n",
       "    <tr>\n",
       "      <th>75%</th>\n",
       "      <td>146.500000</td>\n",
       "      <td>2.878637e+07</td>\n",
       "      <td>5.194300e+05</td>\n",
       "      <td>214.000000</td>\n",
       "    </tr>\n",
       "    <tr>\n",
       "      <th>max</th>\n",
       "      <td>195.000000</td>\n",
       "      <td>1.439324e+09</td>\n",
       "      <td>1.637687e+07</td>\n",
       "      <td>26337.000000</td>\n",
       "    </tr>\n",
       "  </tbody>\n",
       "</table>\n",
       "</div>"
      ],
      "text/plain": [
       "                #  Population(2020)  Land Area (Km²)  Density(P/Km²)\n",
       "count  195.000000      1.950000e+02     1.950000e+02      195.000000\n",
       "mean    98.000000      3.976991e+07     6.627831e+05      353.584615\n",
       "std     56.435804      1.475370e+08     1.834234e+06     1982.697443\n",
       "min      1.000000      8.010000e+02     0.000000e+00        2.000000\n",
       "25%     49.500000      2.023470e+06     2.299500e+04       35.500000\n",
       "50%     98.000000      8.737371e+06     1.127600e+05       89.000000\n",
       "75%    146.500000      2.878637e+07     5.194300e+05      214.000000\n",
       "max    195.000000      1.439324e+09     1.637687e+07    26337.000000"
      ]
     },
     "execution_count": 30,
     "metadata": {},
     "output_type": "execute_result"
    }
   ],
   "source": [
    "print(panstwa.info())\n",
    "print('\\n')\n",
    "print(panstwa.head())\n",
    "print('\\n')\n",
    "panstwa.describe()"
   ]
  },
  {
   "cell_type": "markdown",
   "metadata": {},
   "source": [
    "### Ogólnie\n",
    "Średnia jest przydatna podczas rozpratrywania danych jako całości, mediana wtedy kiedy interesuje nas wartość centralna, bez uwzględnienia punktów odstających.\n",
    "\n",
    "### iris\n",
    "Jest znacząca różnica między medianą a wartością średnią gdy rozpatrzymy klasy petal. Mediana jest większa od śreniej dla petal_witdth oraz petal_length. Oznacza to, że jedna z pośród 3 klas ma znacząco miejsze wartości - jedna z odmian irysów ma znacząco mniejsze listki niż pozostałe dwie odmiany. Jeśli wartość średnia pokrywa się z medianą może oznaczać to, nie  zachodzi skośność i klasy nakładają się wzajemnie lub odległości między wartościami średnimi tych klas są porównywalne (klasy o równej liczności)\n",
    "\n",
    "### panstwa\n",
    "#### Populacja\n",
    "Wartoś średnia jest większa od mediany bowiem mamy kilka znacznie liczniejszych państw od pozostałych które zawyżają średnią. Mediana określa liczność takiego \"wyśrodkowanego\" państwa bez uwzględnienia wartości krańcowych. Analogicznie można rozpatrywać pozostałe wielkosći."
   ]
  },
  {
   "cell_type": "markdown",
   "metadata": {},
   "source": [
    "Miary współzależności pozwalają na określenie czy i w jakim stopniu poszczególne atrybuty są od siebie zależne. Podstawową miarą zależności liniowej jest korelacja. "
   ]
  },
  {
   "cell_type": "code",
   "execution_count": 29,
   "metadata": {},
   "outputs": [
    {
     "data": {
      "text/html": [
       "<div>\n",
       "<style scoped>\n",
       "    .dataframe tbody tr th:only-of-type {\n",
       "        vertical-align: middle;\n",
       "    }\n",
       "\n",
       "    .dataframe tbody tr th {\n",
       "        vertical-align: top;\n",
       "    }\n",
       "\n",
       "    .dataframe thead th {\n",
       "        text-align: right;\n",
       "    }\n",
       "</style>\n",
       "<table border=\"1\" class=\"dataframe\">\n",
       "  <thead>\n",
       "    <tr style=\"text-align: right;\">\n",
       "      <th></th>\n",
       "      <th>Population(2020)</th>\n",
       "      <th>Land Area (Km²)</th>\n",
       "      <th>Density(P/Km²)</th>\n",
       "    </tr>\n",
       "  </thead>\n",
       "  <tbody>\n",
       "    <tr>\n",
       "      <th>Population(2020)</th>\n",
       "      <td>1.000000</td>\n",
       "      <td>0.447439</td>\n",
       "      <td>-0.017504</td>\n",
       "    </tr>\n",
       "    <tr>\n",
       "      <th>Land Area (Km²)</th>\n",
       "      <td>0.447439</td>\n",
       "      <td>1.000000</td>\n",
       "      <td>-0.053790</td>\n",
       "    </tr>\n",
       "    <tr>\n",
       "      <th>Density(P/Km²)</th>\n",
       "      <td>-0.017504</td>\n",
       "      <td>-0.053790</td>\n",
       "      <td>1.000000</td>\n",
       "    </tr>\n",
       "  </tbody>\n",
       "</table>\n",
       "</div>"
      ],
      "text/plain": [
       "                  Population(2020)  Land Area (Km²)  Density(P/Km²)\n",
       "Population(2020)          1.000000         0.447439       -0.017504\n",
       "Land Area (Km²)           0.447439         1.000000       -0.053790\n",
       "Density(P/Km²)           -0.017504        -0.053790        1.000000"
      ]
     },
     "execution_count": 29,
     "metadata": {},
     "output_type": "execute_result"
    }
   ],
   "source": [
    "panstwa.iloc[:,1:5].corr()"
   ]
  },
  {
   "cell_type": "code",
   "execution_count": 31,
   "metadata": {},
   "outputs": [
    {
     "data": {
      "text/html": [
       "<div>\n",
       "<style scoped>\n",
       "    .dataframe tbody tr th:only-of-type {\n",
       "        vertical-align: middle;\n",
       "    }\n",
       "\n",
       "    .dataframe tbody tr th {\n",
       "        vertical-align: top;\n",
       "    }\n",
       "\n",
       "    .dataframe thead th {\n",
       "        text-align: right;\n",
       "    }\n",
       "</style>\n",
       "<table border=\"1\" class=\"dataframe\">\n",
       "  <thead>\n",
       "    <tr style=\"text-align: right;\">\n",
       "      <th></th>\n",
       "      <th>atrybut1</th>\n",
       "      <th>atrybut2</th>\n",
       "    </tr>\n",
       "  </thead>\n",
       "  <tbody>\n",
       "    <tr>\n",
       "      <th>atrybut1</th>\n",
       "      <td>1.000000</td>\n",
       "      <td>-0.033668</td>\n",
       "    </tr>\n",
       "    <tr>\n",
       "      <th>atrybut2</th>\n",
       "      <td>-0.033668</td>\n",
       "      <td>1.000000</td>\n",
       "    </tr>\n",
       "  </tbody>\n",
       "</table>\n",
       "</div>"
      ],
      "text/plain": [
       "          atrybut1  atrybut2\n",
       "atrybut1  1.000000 -0.033668\n",
       "atrybut2 -0.033668  1.000000"
      ]
     },
     "execution_count": 31,
     "metadata": {},
     "output_type": "execute_result"
    }
   ],
   "source": [
    "d.corr()"
   ]
  },
  {
   "cell_type": "code",
   "execution_count": 30,
   "metadata": {},
   "outputs": [
    {
     "data": {
      "text/html": [
       "<div>\n",
       "<style scoped>\n",
       "    .dataframe tbody tr th:only-of-type {\n",
       "        vertical-align: middle;\n",
       "    }\n",
       "\n",
       "    .dataframe tbody tr th {\n",
       "        vertical-align: top;\n",
       "    }\n",
       "\n",
       "    .dataframe thead th {\n",
       "        text-align: right;\n",
       "    }\n",
       "</style>\n",
       "<table border=\"1\" class=\"dataframe\">\n",
       "  <thead>\n",
       "    <tr style=\"text-align: right;\">\n",
       "      <th></th>\n",
       "      <th>sepal_length</th>\n",
       "      <th>sepal_width</th>\n",
       "      <th>petal_length</th>\n",
       "      <th>petal_width</th>\n",
       "    </tr>\n",
       "  </thead>\n",
       "  <tbody>\n",
       "    <tr>\n",
       "      <th>sepal_length</th>\n",
       "      <td>1.000000</td>\n",
       "      <td>-0.117570</td>\n",
       "      <td>0.871754</td>\n",
       "      <td>0.817941</td>\n",
       "    </tr>\n",
       "    <tr>\n",
       "      <th>sepal_width</th>\n",
       "      <td>-0.117570</td>\n",
       "      <td>1.000000</td>\n",
       "      <td>-0.428440</td>\n",
       "      <td>-0.366126</td>\n",
       "    </tr>\n",
       "    <tr>\n",
       "      <th>petal_length</th>\n",
       "      <td>0.871754</td>\n",
       "      <td>-0.428440</td>\n",
       "      <td>1.000000</td>\n",
       "      <td>0.962865</td>\n",
       "    </tr>\n",
       "    <tr>\n",
       "      <th>petal_width</th>\n",
       "      <td>0.817941</td>\n",
       "      <td>-0.366126</td>\n",
       "      <td>0.962865</td>\n",
       "      <td>1.000000</td>\n",
       "    </tr>\n",
       "  </tbody>\n",
       "</table>\n",
       "</div>"
      ],
      "text/plain": [
       "              sepal_length  sepal_width  petal_length  petal_width\n",
       "sepal_length      1.000000    -0.117570      0.871754     0.817941\n",
       "sepal_width      -0.117570     1.000000     -0.428440    -0.366126\n",
       "petal_length      0.871754    -0.428440      1.000000     0.962865\n",
       "petal_width       0.817941    -0.366126      0.962865     1.000000"
      ]
     },
     "execution_count": 30,
     "metadata": {},
     "output_type": "execute_result"
    }
   ],
   "source": [
    "iris.corr()"
   ]
  },
  {
   "cell_type": "code",
   "execution_count": 31,
   "metadata": {},
   "outputs": [
    {
     "data": {
      "text/plain": [
       "<AxesSubplot:>"
      ]
     },
     "execution_count": 31,
     "metadata": {},
     "output_type": "execute_result"
    },
    {
     "data": {
      "image/png": "[encoded data removed]",
      "text/plain": [
       "<Figure size 400x400 with 2 Axes>"
      ]
     },
     "metadata": {
      "needs_background": "light"
     },
     "output_type": "display_data"
    }
   ],
   "source": [
    "plt.figure(figsize=(5,5),dpi = 80)\n",
    "sns.heatmap(iris.corr(),annot = iris.corr())"
   ]
  },
  {
   "cell_type": "markdown",
   "metadata": {},
   "source": [
    "> **Zadanie 5** Skonfrontuj macierz korelacji z wykresami punktowymi zbiorów `d` oraz `iris`. Jaka jest zależność między konfiguracją punktów na wykresie punktowym a wartością miary korealcji ? Jakie wnioski odnoszące się do poszczególnych atrybutów można wyciągnąć na podstawie analizy macierzy korelacji ?  "
   ]
  },
  {
   "cell_type": "markdown",
   "metadata": {},
   "source": [
    "### d\n",
    "nie zachodzi korelacja między atrybuami\n",
    "\n",
    "### iris\n",
    "zachodzi silnka dodatnia korelacja między szerokością w długością listków, im szerszy tym dłuższy listek  \n",
    "nie zachodzi korelacja między dłuoscią a szerokością działki kielicha  \n",
    "zachodzi dodatnia korelacja między długością działek kielicha a wielkością listków -> dłuższa działa - większe listki  \n",
    "może zachodzić ujemna koleraca między szerokością działki kielicha a wielkością listków -> węższa działka - większe listki  \n",
    "\n",
    "### wnioski\n",
    "jeżeli zachodzi silnka korelacja między atybutami uwzględnienie obydwu atrybutów podczas uczenia może być bezsensowne, macierz ta pomaga wybrać atrybuy do procesu uczenia."
   ]
  },
  {
   "cell_type": "markdown",
   "metadata": {},
   "source": [
    "Pamiętajmy - dane zawsze nie tylko mierzymy ale i oglądamy !! [kwartet Anscombe'a](https://pl.wikipedia.org/wiki/Kwartet_Anscombe%E2%80%99a). "
   ]
  },
  {
   "cell_type": "code",
   "execution_count": 33,
   "metadata": {},
   "outputs": [
    {
     "name": "stdout",
     "output_type": "stream",
     "text": [
      "               x          y\n",
      "count  11.000000  11.000000\n",
      "mean    9.000000   7.500909\n",
      "std     3.316625   2.031568\n",
      "min     4.000000   4.260000\n",
      "25%     6.500000   6.315000\n",
      "50%     9.000000   7.580000\n",
      "75%    11.500000   8.570000\n",
      "max    14.000000  10.840000\n",
      "          x         y\n",
      "x  1.000000  0.816421\n",
      "y  0.816421  1.000000\n"
     ]
    },
    {
     "data": {
      "image/png": "[encoded data removed]",
      "text/plain": [
       "<Figure size 432x288 with 1 Axes>"
      ]
     },
     "metadata": {
      "needs_background": "light"
     },
     "output_type": "display_data"
    }
   ],
   "source": [
    "# Zestaw 1\n",
    "a1 = a[['x1','y1']]\n",
    "a1.columns = ['x','y']\n",
    "plt.scatter(a1.x,a1.y)\n",
    "print(a1.describe())\n",
    "print(a1.corr())"
   ]
  },
  {
   "cell_type": "code",
   "execution_count": 34,
   "metadata": {},
   "outputs": [
    {
     "name": "stdout",
     "output_type": "stream",
     "text": [
      "               x          y\n",
      "count  11.000000  11.000000\n",
      "mean    9.000000   7.500909\n",
      "std     3.316625   2.031657\n",
      "min     4.000000   3.100000\n",
      "25%     6.500000   6.695000\n",
      "50%     9.000000   8.140000\n",
      "75%    11.500000   8.950000\n",
      "max    14.000000   9.260000\n",
      "          x         y\n",
      "x  1.000000  0.816237\n",
      "y  0.816237  1.000000\n"
     ]
    },
    {
     "data": {
      "image/png": "[encoded data removed]",
      "text/plain": [
       "<Figure size 432x288 with 1 Axes>"
      ]
     },
     "metadata": {
      "needs_background": "light"
     },
     "output_type": "display_data"
    }
   ],
   "source": [
    "# Zestaw 2\n",
    "a2 = a[['x2','y2']]\n",
    "a2.columns = ['x','y']\n",
    "plt.scatter(a2.x,a2.y)\n",
    "print(a2.describe())\n",
    "print(a2.corr())"
   ]
  },
  {
   "cell_type": "code",
   "execution_count": 35,
   "metadata": {},
   "outputs": [
    {
     "name": "stdout",
     "output_type": "stream",
     "text": [
      "               x          y\n",
      "count  11.000000  11.000000\n",
      "mean    9.000000   7.500000\n",
      "std     3.316625   2.030424\n",
      "min     4.000000   5.390000\n",
      "25%     6.500000   6.250000\n",
      "50%     9.000000   7.110000\n",
      "75%    11.500000   7.980000\n",
      "max    14.000000  12.740000\n",
      "          x         y\n",
      "x  1.000000  0.816287\n",
      "y  0.816287  1.000000\n"
     ]
    },
    {
     "data": {
      "image/png": "[encoded data removed]",
      "text/plain": [
       "<Figure size 432x288 with 1 Axes>"
      ]
     },
     "metadata": {
      "needs_background": "light"
     },
     "output_type": "display_data"
    }
   ],
   "source": [
    "# Zestaw 3\n",
    "a3 = a[['x3','y3']]\n",
    "a3.columns = ['x','y']\n",
    "plt.scatter(a3.x,a3.y)\n",
    "print(a3.describe())\n",
    "print(a3.corr())"
   ]
  },
  {
   "cell_type": "code",
   "execution_count": 36,
   "metadata": {},
   "outputs": [
    {
     "name": "stdout",
     "output_type": "stream",
     "text": [
      "               x          y\n",
      "count  11.000000  11.000000\n",
      "mean    9.000000   7.500909\n",
      "std     3.316625   2.030579\n",
      "min     8.000000   5.250000\n",
      "25%     8.000000   6.170000\n",
      "50%     8.000000   7.040000\n",
      "75%     8.000000   8.190000\n",
      "max    19.000000  12.500000\n",
      "          x         y\n",
      "x  1.000000  0.816521\n",
      "y  0.816521  1.000000\n"
     ]
    },
    {
     "data": {
      "image/png": "[encoded data removed]",
      "text/plain": [
       "<Figure size 432x288 with 1 Axes>"
      ]
     },
     "metadata": {
      "needs_background": "light"
     },
     "output_type": "display_data"
    }
   ],
   "source": [
    "# Zestaw 4\n",
    "a4 = a[['x4','y4']]\n",
    "a4.columns = ['x','y']\n",
    "plt.scatter(a4.x,a4.y)\n",
    "print(a4.describe())\n",
    "print(a4.corr())"
   ]
  }
 ],
 "metadata": {
  "kernelspec": {
   "display_name": "Python 3",
   "language": "python",
   "name": "python3"
  },
  "language_info": {
   "codemirror_mode": {
    "name": "ipython",
    "version": 3
   },
   "file_extension": ".py",
   "mimetype": "text/x-python",
   "name": "python",
   "nbconvert_exporter": "python",
   "pygments_lexer": "ipython3",
   "version": "3.8.3"
  }
 },
 "nbformat": 4,
 "nbformat_minor": 4
}
